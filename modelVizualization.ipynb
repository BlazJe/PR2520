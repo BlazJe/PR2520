{
 "cells": [
  {
   "cell_type": "code",
   "execution_count": 2,
   "id": "3a4236f0",
   "metadata": {},
   "outputs": [],
   "source": [
    "from sklearn.ensemble import RandomForestClassifier\n",
    "from sklearn.tree import plot_tree\n",
    "import matplotlib.pyplot as plt\n",
    "import pickle"
   ]
  },
  {
   "cell_type": "code",
   "execution_count": 17,
   "id": "eb0dc9f1",
   "metadata": {},
   "outputs": [],
   "source": [
    "columns = ['KlasifikacijaNesrece', 'UpravnaEnotaStoritve', 'UraPN', 'VNaselju',\n",
    "       'Lokacija', 'VrstaCesteNaselja', 'SifraCesteNaselja',\n",
    "       'TekstCesteNaselja', 'SifraOdsekaUlice', 'TekstOdsekaUlice',\n",
    "       'StacionazaDogodka', 'OpisKraja', 'VzrokNesrece', 'TipNesrece',\n",
    "       'VremenskeOkoliscine', 'StanjePrometa', 'StanjeVozisca', 'VrstaVozisca',\n",
    "       'GeoKoordinataX', 'GeoKoordinataY', 'Povzrocitelj', 'Starost', 'Spol',\n",
    "       'UEStalnegaPrebivalisca', 'Drzavljanstvo', 'PoskodbaUdelezenca',\n",
    "       'VrstaUdelezenca', 'UporabaVarnostnegaPasu', 'VozniskiStazVLetih',\n",
    "       'VrednostAlkotesta', 'VrednostStrokovnegaPregleda']\n",
    "\n",
    "computeHeavyModels = ['SifraCesteNaselja', 'TekstCesteNaselja', 'SifraOdsekaUlice', 'TekstOdsekaUlice', 'StacionazaDogodka']"
   ]
  },
  {
   "cell_type": "markdown",
   "id": "27bf3f3b",
   "metadata": {},
   "source": [
    "Vizualizacija enega drevesa za vsak model. Predstavitev slaba, ker prikaže samo eno drevo in pri generiranju modela se ne uporablja oneHot encoding ampak \n",
    "json mapping in je prikaz nesmiselen (x >= 1.5, pri uporabi kategoričnih spremenljivk) NE DODAJ V KONČNO POROČILO!"
   ]
  },
  {
   "cell_type": "code",
   "execution_count": 22,
   "id": "e0a24a9e",
   "metadata": {},
   "outputs": [],
   "source": [
    "def generateVizualization():\n",
    "    modelsPath = \"models_Random_Forest/\"\n",
    "    saveFolder = \"tree_Vizualization/\"\n",
    "\n",
    "    for column in columns:\n",
    "        if(column in computeHeavyModels):\n",
    "            continue\n",
    "        \n",
    "        trainColumns = list(columns)\n",
    "        modelName =  column\n",
    "        trainColumns.remove(modelName)\n",
    "        with open(modelsPath + modelName + \"_model\" + \".pkl\", \"rb\") as f:\n",
    "            pickedModel = pickle.load(f)\n",
    "\n",
    "        estimator = pickedModel.estimators_[0]\n",
    "\n",
    "        plt.figure(figsize=(20, 10))\n",
    "        plot_tree(estimator, feature_names = trainColumns, class_names = pickedModel.classes_.astype(str), filled = True, max_depth=2, fontsize=6)\n",
    "        plt.title(\"Singular tree from \" + modelName + \" model\")\n",
    "        plt.savefig(saveFolder + modelName + \".png\", dpi=300, bbox_inches='tight')\n",
    "        plt.close()"
   ]
  },
  {
   "cell_type": "code",
   "execution_count": 23,
   "id": "dbf83247",
   "metadata": {},
   "outputs": [],
   "source": [
    "generateVizualization()"
   ]
  }
 ],
 "metadata": {
  "kernelspec": {
   "display_name": "Python 3",
   "language": "python",
   "name": "python3"
  },
  "language_info": {
   "codemirror_mode": {
    "name": "ipython",
    "version": 3
   },
   "file_extension": ".py",
   "mimetype": "text/x-python",
   "name": "python",
   "nbconvert_exporter": "python",
   "pygments_lexer": "ipython3",
   "version": "3.13.2"
  }
 },
 "nbformat": 4,
 "nbformat_minor": 5
}
