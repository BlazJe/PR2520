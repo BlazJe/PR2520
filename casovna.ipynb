{
 "cells": [
  {
   "cell_type": "code",
   "execution_count": null,
   "id": "0",
   "metadata": {},
   "outputs": [],
   "source": [
    "from funkcije import *\n",
    "import pandas as pd\n",
    "import matplotlib.pyplot as plt"
   ]
  },
  {
   "cell_type": "code",
   "execution_count": null,
   "id": "1",
   "metadata": {},
   "outputs": [],
   "source": [
    "combined_data = load_data()"
   ]
  },
  {
   "cell_type": "code",
   "execution_count": null,
   "id": "2",
   "metadata": {},
   "outputs": [],
   "source": [
    "combined_data['DatumPN'] = pd.to_datetime(combined_data['DatumPN'], format='%d.%m.%Y')\n",
    "combined_data['Weekday'] = combined_data['DatumPN'].dt.day_name()\n",
    "combined_data['Day'] = combined_data['DatumPN'].dt.day\n",
    "combined_data['Month'] = combined_data['DatumPN'].dt.month\n",
    "combined_data['Year'] = combined_data['DatumPN'].dt.year"
   ]
  },
  {
   "cell_type": "code",
   "execution_count": null,
   "id": "3",
   "metadata": {},
   "outputs": [],
   "source": [
    "classification_colors = {\n",
    "    'Z MATERIALNO ŠKODO': '#377eb8',  \n",
    "    'Z LAŽJO TELESNO POŠKODBO': '#4daf4a', \n",
    "    'S HUDO TELESNO POŠKODBO': '#ff7f00',  \n",
    "    'S SMRTNIM IZIDOM': '#e41a1c'  \n",
    "}"
   ]
  },
  {
   "cell_type": "code",
   "execution_count": null,
   "id": "4",
   "metadata": {},
   "outputs": [],
   "source": [
    "first_date = combined_data['DatumPN'].min()\n",
    "last_date = combined_data['DatumPN'].max()\n",
    "\n",
    "days = (last_date - first_date).days\n",
    "weeks = days // 7\n",
    "months = (last_date.year - first_date.year) * 12 + (last_date.month - first_date.month)\n",
    "years = combined_data['Year'].nunique()\n",
    "days, weeks, months, years "
   ]
  },
  {
   "cell_type": "markdown",
   "id": "5",
   "metadata": {},
   "source": [
    "# Najnevarnejši meseci"
   ]
  },
  {
   "cell_type": "code",
   "execution_count": null,
   "id": "6",
   "metadata": {},
   "outputs": [],
   "source": [
    "unique_accidents = combined_data.groupby('ZaporednaStevilkaPN').first()\n",
    "\n",
    "stacked_data = unique_accidents.groupby(['Month', 'KlasifikacijaNesrece']).size().unstack(fill_value=0)\n",
    "\n",
    "ordered_columns = ['Z MATERIALNO ŠKODO', 'Z LAŽJO TELESNO POŠKODBO', 'S HUDO TELESNO POŠKODBO', 'S SMRTNIM IZIDOM']\n",
    "stacked_data[ordered_columns] = stacked_data[ordered_columns] / years\n",
    "\n",
    "stacked_data = stacked_data[ordered_columns]\n",
    "\n",
    "stacked_data.plot(\n",
    "    kind='barh',\n",
    "    stacked=True,\n",
    "    color=[classification_colors.get(col, 'gray') for col in stacked_data.columns],\n",
    "    figsize=(10, 5)\n",
    ")\n",
    "\n",
    "plt.title('Nesreče povprečno po mesecih', fontsize=14)\n",
    "plt.xlabel('Število nesreč', fontsize=12)\n",
    "plt.ylabel('Mesec', fontsize=12)\n",
    "plt.yticks(range(0, 12), ['Jan', 'Feb', 'Mar', 'Apr', 'Maj', 'Jun', 'Jul', 'Avg', 'Sep', 'Okt', 'Nov', 'Dec'])\n",
    "plt.legend(title='Klasifikacija nesreč', bbox_to_anchor=(1.05, 1), loc='upper left', fontsize=10)\n",
    "plt.tight_layout()\n",
    "plt.show()"
   ]
  },
  {
   "cell_type": "markdown",
   "id": "7",
   "metadata": {},
   "source": [
    "# Najnevarnejši dnevi v tednu"
   ]
  },
  {
   "cell_type": "code",
   "execution_count": null,
   "id": "8",
   "metadata": {},
   "outputs": [],
   "source": [
    "unique_accidents = combined_data.groupby('ZaporednaStevilkaPN').first()\n",
    "\n",
    "stacked_data = unique_accidents.groupby(['Weekday', 'KlasifikacijaNesrece']).size().unstack(fill_value=0)\n",
    "\n",
    "ordered_columns = ['Z MATERIALNO ŠKODO', 'Z LAŽJO TELESNO POŠKODBO', 'S HUDO TELESNO POŠKODBO', 'S SMRTNIM IZIDOM']\n",
    "stacked_data[ordered_columns] = stacked_data[ordered_columns] / weeks\n",
    "\n",
    "stacked_data = stacked_data[ordered_columns]\n",
    "stacked_data = stacked_data.reindex(\n",
    "    ['Monday', 'Tuesday', 'Wednesday', 'Thursday', 'Friday', 'Saturday', 'Sunday'],\n",
    "    axis=0\n",
    ")\n",
    "\n",
    "stacked_data.plot(\n",
    "    kind='barh',\n",
    "    stacked=True,\n",
    "    color=[classification_colors.get(col, 'gray') for col in stacked_data.columns],\n",
    "    figsize=(10, 5)\n",
    ")\n",
    "\n",
    "plt.title('Nesreče povprečno na dan v tednu', fontsize=14)\n",
    "plt.xlabel('Število nesreč', fontsize=12)\n",
    "plt.ylabel('Dan v tednu', fontsize=12)\n",
    "plt.yticks(range(0, 7), ['Pon', 'Tor', 'Sre', 'Čet', 'Pet', 'Sob', 'Ned'])\n",
    "plt.legend(title='Klasifikacija nesreč', bbox_to_anchor=(1.05, 1), loc='upper left', fontsize=10)\n",
    "plt.tight_layout()\n",
    "plt.show()"
   ]
  },
  {
   "cell_type": "code",
   "execution_count": null,
   "id": "9",
   "metadata": {},
   "outputs": [],
   "source": [
    "# Vpliv praznikov na število nesreč"
   ]
  },
  {
   "cell_type": "code",
   "execution_count": null,
   "id": "10",
   "metadata": {},
   "outputs": [],
   "source": [
    "holidays = dict() # {'Datum': 'Praznik'}\n",
    "for year in range(first_date.year, last_date.year + 1):\n",
    "    holidays[f\"{year}-01-01\"] = 'Novo leto'\n",
    "    holidays[f\"{year}-01-02\"] = 'Novo leto'\n",
    "    holidays[f\"{year}-02-08\"] = 'Prešernov dan'\n",
    "\n",
    "holidays"
   ]
  }
 ],
 "metadata": {
  "kernelspec": {
   "display_name": "PR2520",
   "language": "python",
   "name": "python3"
  },
  "language_info": {
   "codemirror_mode": {
    "name": "ipython",
    "version": 3
   },
   "file_extension": ".py",
   "mimetype": "text/x-python",
   "name": "python",
   "nbconvert_exporter": "python",
   "pygments_lexer": "ipython3",
   "version": "3.13.3"
  }
 },
 "nbformat": 4,
 "nbformat_minor": 5
}
