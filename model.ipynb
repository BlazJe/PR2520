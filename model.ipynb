{
 "cells": [
  {
   "cell_type": "code",
   "execution_count": 2,
   "id": "6c48cf8a",
   "metadata": {},
   "outputs": [],
   "source": [
    "import pickle\n",
    "import pandas as pd\n",
    "import os\n",
    "import json\n",
    "\n",
    "from sklearn.naive_bayes import MultinomialNB\n",
    "from sklearn.ensemble import RandomForestClassifier\n",
    "from sklearn.model_selection import train_test_split\n",
    "from sklearn.metrics import accuracy_score\n",
    "from sklearn.neural_network import MLPClassifier\n",
    "from sklearn.preprocessing import StandardScaler\n",
    "from concurrent.futures import ProcessPoolExecutor\n",
    "\n",
    "import matplotlib.pyplot as plt\n",
    "\n",
    "pd.set_option('future.no_silent_downcasting', True)"
   ]
  },
  {
   "cell_type": "code",
   "execution_count": 3,
   "id": "b3cc34f7",
   "metadata": {},
   "outputs": [],
   "source": [
    "def cleanedData():\n",
    "\n",
    "    print(\"Getting cleaned data\")\n",
    "\n",
    "    directory = './podatki'\n",
    "    data = []\n",
    "    max_zaporedna_stevilka = 0  \n",
    "\n",
    "    for filename in os.listdir(directory):\n",
    "        if filename.endswith(\".csv\"):\n",
    "            filepath = os.path.join(directory, filename)\n",
    "            try:\n",
    "                frame = pd.read_csv(\n",
    "                    filepath,\n",
    "                    delimiter=';',\n",
    "                    encoding='utf-8',\n",
    "                )\n",
    "                frame['ZaporednaStevilkaPN'] += max_zaporedna_stevilka\n",
    "                max_zaporedna_stevilka = frame['ZaporednaStevilkaPN'].max()  \n",
    "\n",
    "                data.append(frame)\n",
    "            except Exception as e:\n",
    "                print(f\"Napaka pri branju {filename}: {str(e)}\")\n",
    "                continue\n",
    "\n",
    "    combined_data = pd.concat(data, ignore_index=True)\n",
    "    return combined_data"
   ]
  },
  {
   "cell_type": "markdown",
   "id": "f73c14b5",
   "metadata": {},
   "source": [
    "Pridobi vse različne podatke nekega stolpca"
   ]
  },
  {
   "cell_type": "code",
   "execution_count": 4,
   "id": "7204b76c",
   "metadata": {},
   "outputs": [],
   "source": [
    "def printAllValues(data, colum):\n",
    "    print(colum + \": \", data[colum].unique())"
   ]
  },
  {
   "cell_type": "markdown",
   "id": "04eb607a",
   "metadata": {},
   "source": [
    "Odstani neuporabne parametre za model"
   ]
  },
  {
   "cell_type": "code",
   "execution_count": 5,
   "id": "666b1f21",
   "metadata": {},
   "outputs": [],
   "source": [
    "def removeUnusedColumns(data):\n",
    "    print(\"Removing unused columns\")\n",
    "\n",
    "    data = data.drop(columns=[\"DatumPN\", \"ZaporednaStevilkaOsebeVPN\", \"VozniskiStazVMesecih\", \"ZaporednaStevilkaPN\"])\n",
    "    return data"
   ]
  },
  {
   "cell_type": "markdown",
   "id": "6d2eeab8",
   "metadata": {},
   "source": [
    "Odstrani vse vrstice, pri katerih nekateri stolpci nimajo vrednosti"
   ]
  },
  {
   "cell_type": "code",
   "execution_count": 6,
   "id": "8d7b3853",
   "metadata": {},
   "outputs": [],
   "source": [
    "def removeNaNValues(data):\n",
    "    print(\"Removing Nan values\")\n",
    "    return data.dropna()"
   ]
  },
  {
   "cell_type": "markdown",
   "id": "fb059991",
   "metadata": {},
   "source": [
    "Pretvorba ure prometne nesreče iz zvezne v diskretno spremenljivko. Primer: 23.15 -> 23"
   ]
  },
  {
   "cell_type": "code",
   "execution_count": 7,
   "id": "0492fd77",
   "metadata": {},
   "outputs": [],
   "source": [
    "def discretsizeUraPN(data):\n",
    "    print(\"Discreticising UraPN\")\n",
    "    data[\"UraPN\"] = (data[\"UraPN\"] // 1).astype(int)\n",
    "    return data"
   ]
  },
  {
   "cell_type": "markdown",
   "id": "260c7059",
   "metadata": {},
   "source": [
    "Odstrani vrstice brez koordinat"
   ]
  },
  {
   "cell_type": "code",
   "execution_count": 8,
   "id": "6f75aec6",
   "metadata": {},
   "outputs": [],
   "source": [
    "def removeUnknownGeoKoordinata(data):\n",
    "    print(\"Removing unknown GEOKooridnate\")\n",
    "    data = data[(data[\"GeoKoordinataX\"] != 0) & (data[\"GeoKoordinataY\"] != 0)]\n",
    "    return data"
   ]
  },
  {
   "cell_type": "markdown",
   "id": "4f5bace3",
   "metadata": {},
   "source": [
    "Pretvorba zveznih koordinat v diskretne. Po pretvorbi lahko gledamo na podatke kot neko mrežo. Primer: 51263 -> 5"
   ]
  },
  {
   "cell_type": "code",
   "execution_count": 9,
   "id": "a95cb550",
   "metadata": {},
   "outputs": [],
   "source": [
    "def descretisizeGeoKoordinata(data):\n",
    "    print(\"Discreticising GEOKoordinate\")\n",
    "    data[\"GeoKoordinataX\"] = data[\"GeoKoordinataX\"] // 10000\n",
    "    data[\"GeoKoordinataY\"] = data[\"GeoKoordinataY\"] // 10000\n",
    "    return data"
   ]
  },
  {
   "cell_type": "markdown",
   "id": "0d7a41d3",
   "metadata": {},
   "source": [
    "Odstrani vse vrstice, pri katerih starost ni znana"
   ]
  },
  {
   "cell_type": "code",
   "execution_count": 10,
   "id": "cdc0bc49",
   "metadata": {},
   "outputs": [],
   "source": [
    "def removeUnknownStarost(data):\n",
    "    print(\"Removing unknown starost\")\n",
    "    data = data[data[\"Starost\"] != -1]\n",
    "    return data"
   ]
  },
  {
   "cell_type": "markdown",
   "id": "497fbc78",
   "metadata": {},
   "source": [
    "Pretvorba starosti iz \"zvezne\" spremenljivko v diskretno. Primer: 23 -> 2 (pomen: udeleženec star 20-30 let)"
   ]
  },
  {
   "cell_type": "code",
   "execution_count": 11,
   "id": "890a1aa6",
   "metadata": {},
   "outputs": [],
   "source": [
    "def discretsizeStarost(data):\n",
    "    print(\"Discreticising starost\")\n",
    "    data[\"Starost\"] = (data[\"Starost\"] // 10).astype(int)\n",
    "    return data"
   ]
  },
  {
   "cell_type": "markdown",
   "id": "8f0b37e8",
   "metadata": {},
   "source": [
    "Pretvorba Vozniškega staza v letih iz \"zvezne\" spremenljivko v diskretno. Primer: 23 -> 2 (pomen: udeležencev vozniški staz 20-30 let)"
   ]
  },
  {
   "cell_type": "code",
   "execution_count": 12,
   "id": "b9992c61",
   "metadata": {},
   "outputs": [],
   "source": [
    "def discretsizeVoznikStazVLetih(data):\n",
    "    print(\"Discreticising Vozniški staz v letih\")\n",
    "    data[\"VozniskiStazVLetih\"] = (data[\"VozniskiStazVLetih\"] // 10).astype(int)\n",
    "    return data"
   ]
  },
  {
   "cell_type": "markdown",
   "id": "c1cdaa86",
   "metadata": {},
   "source": [
    "Pretvorba vrednost alkotesta iz zvezne v diskrteno spremenljivko. Primer 0.12 -> 1 (pomen: vrednost alkotesta 0.1-0.2). Ob napovedi potrebno deliti napoved z 10"
   ]
  },
  {
   "cell_type": "code",
   "execution_count": 13,
   "id": "fca81cc0",
   "metadata": {},
   "outputs": [],
   "source": [
    "def discretsizeVrednostAlkotesta(data):\n",
    "    print(\"Discreticising vrednost alkotesta\")\n",
    "    data[\"VrednostAlkotesta\"] = data[\"VrednostAlkotesta\"].str.replace(\",\", \".\").astype(float)\n",
    "    data[\"VrednostAlkotesta\"] = data[\"VrednostAlkotesta\"].round(1) * 10\n",
    "    data[\"VrednostAlkotesta\"] = data[\"VrednostAlkotesta\"].astype(int)\n",
    "    return data"
   ]
  },
  {
   "cell_type": "markdown",
   "id": "0442e645",
   "metadata": {},
   "source": [
    "Pretvorba vrednost strokovnega pregleda iz zvezne v diskrteno spremenljivko. Primer 1.12 -> 11 (pomen: vrednost pregleda 1.1-1.2). Ob napovedi potrebno deliti napoved z 10"
   ]
  },
  {
   "cell_type": "code",
   "execution_count": 14,
   "id": "81117371",
   "metadata": {},
   "outputs": [],
   "source": [
    "def discretsizeVrednostStrokovnegaPregleda(data):\n",
    "    print(\"Discreticising vrednost strokovnega pregleda\")\n",
    "    data[\"VrednostStrokovnegaPregleda\"] = data[\"VrednostStrokovnegaPregleda\"].str.replace(\",\", \".\").astype(float)\n",
    "    data[\"VrednostStrokovnegaPregleda\"] = data[\"VrednostStrokovnegaPregleda\"].round(1) * 10\n",
    "    data[\"VrednostStrokovnegaPregleda\"] = data[\"VrednostStrokovnegaPregleda\"].astype(float)\n",
    "    return data"
   ]
  },
  {
   "cell_type": "code",
   "execution_count": 15,
   "id": "92e6ca6a",
   "metadata": {},
   "outputs": [],
   "source": [
    "def process_column(args):\n",
    "        \n",
    "        dataToPredictionPath = \"data_To_Prediction/\"\n",
    "        predictionToDataPath = \"prediction_To_Data/\"\n",
    "\n",
    "        column, colData = args\n",
    "        print(\"Saving and replacing string values with ints in: \" + column)\n",
    "\n",
    "        strToInt = dict()\n",
    "        intToStr = dict()\n",
    "\n",
    "        distinctColumnData = colData.unique().tolist()\n",
    "        for intVal, strVal in enumerate(distinctColumnData):\n",
    "            strToInt[strVal] = intVal\n",
    "            intToStr[intVal] = strVal\n",
    "\n",
    "        with open(dataToPredictionPath + column + \".json\", \"w\") as f1:\n",
    "            json.dump(strToInt, f1, indent=4)\n",
    "\n",
    "        with open(predictionToDataPath + column + \".json\", \"w\") as f2:\n",
    "            json.dump(intToStr, f2, indent=4)\n",
    "\n",
    "\n",
    "        updated_col = colData.replace(strToInt)\n",
    "\n",
    "        return column, updated_col"
   ]
  },
  {
   "cell_type": "code",
   "execution_count": 16,
   "id": "f482ebd0",
   "metadata": {},
   "outputs": [],
   "source": [
    "def replaceStringData(data):\n",
    "    textData = [col for col in data.columns if pd.api.types.is_string_dtype(data[col])]\n",
    "\n",
    "    args = [(col, data[col]) for col in textData]\n",
    "\n",
    "    with ProcessPoolExecutor(max_workers=os.cpu_count()) as executor:\n",
    "        results = executor.map(process_column, args)\n",
    "\n",
    "    for column, updatedCol in results:\n",
    "        data[column] = updatedCol.astype(int)\n",
    "\n",
    "    return data"
   ]
  },
  {
   "cell_type": "markdown",
   "id": "2d5d834c",
   "metadata": {},
   "source": [
    "Preprocesiranje podatkov"
   ]
  },
  {
   "cell_type": "code",
   "execution_count": 17,
   "id": "675371b1",
   "metadata": {},
   "outputs": [],
   "source": [
    "def preprocessData():\n",
    "    cleanData = cleanedData()\n",
    "    selectedColumns = removeUnusedColumns(cleanData)\n",
    "    selectedColumns = removeNaNValues(selectedColumns)\n",
    "    selectedColumns = discretsizeUraPN(selectedColumns)\n",
    "    selectedColumns = removeUnknownGeoKoordinata(selectedColumns)\n",
    "    selectedColumns = descretisizeGeoKoordinata(selectedColumns)\n",
    "    selectedColumns = removeUnknownStarost(selectedColumns)\n",
    "    selectedColumns = discretsizeStarost(selectedColumns)\n",
    "    selectedColumns = discretsizeVoznikStazVLetih(selectedColumns)\n",
    "    selectedColumns = discretsizeVrednostAlkotesta(selectedColumns)\n",
    "    selectedColumns = discretsizeVrednostStrokovnegaPregleda(selectedColumns)\n",
    "    selectedColumns = replaceStringData(selectedColumns)\n",
    "    return selectedColumns\n"
   ]
  },
  {
   "cell_type": "code",
   "execution_count": 25,
   "id": "bb24ae91",
   "metadata": {},
   "outputs": [],
   "source": [
    "def generateModelsRandomForest(data):\n",
    "    modelPath = \"models_Random_Forest/\"\n",
    "    \n",
    "    #for label in data.columns:\n",
    "    for label in [\"SifraCesteNaselja\"]:\n",
    "        modelFile = open(modelPath + label + \"_model.pkl\", \"wb\")\n",
    "        accuracyList = open(modelPath + \"accuracy.txt\", \"a\")\n",
    "\n",
    "        print(\"Generating model: \" + label)\n",
    "\n",
    "        targetVariable = data[label]\n",
    "        learningData = data.drop(columns=[label])\n",
    "\n",
    "        trainData, testData, trainTarget, testTarget = train_test_split(learningData, targetVariable, test_size=0.2)\n",
    "        model = model = RandomForestClassifier(\n",
    "            n_estimators=200,       \n",
    "            max_depth=20,           \n",
    "            min_samples_split=5,    \n",
    "            min_samples_leaf=2,     \n",
    "            max_features='sqrt',    \n",
    "            n_jobs=-1,              \n",
    "            random_state=42      \n",
    "        )\n",
    "        model.fit(trainData, trainTarget)\n",
    "        pickle.dump(model, modelFile)\n",
    "        predictions = model.predict(testData)\n",
    "        accuracyList.write(\"predicting: \" + label + \" \" + str(accuracy_score(testTarget, predictions)) + \"\\n\")\n",
    "        modelFile.close()\n",
    "        accuracyList.close()"
   ]
  },
  {
   "cell_type": "markdown",
   "id": "6be6c72b",
   "metadata": {},
   "source": [
    "Generiranje modelov z naivinim bayasom"
   ]
  },
  {
   "cell_type": "code",
   "execution_count": 24,
   "id": "2e5df73e",
   "metadata": {},
   "outputs": [],
   "source": [
    "def generateModelsNaiveBayas(data):\n",
    "    modelPath = \"models_naiveBayas/\"\n",
    "    \n",
    "    for label in data.columns:\n",
    "        modelFile = open(modelPath + label + \"_model.pkl\", \"wb\")\n",
    "        accuracyList = open(modelPath + \"accuracy.txt\", \"a\")\n",
    "\n",
    "        print(\"Generating model: \" + label)\n",
    "\n",
    "        targetVariable = data[label]\n",
    "        learningData = data.drop(columns=[label])\n",
    "\n",
    "        trainData, testData, trainTarget, testTarget = train_test_split(learningData, targetVariable, test_size=0.2)\n",
    "        model = MultinomialNB()\n",
    "        model.fit(trainData, trainTarget)\n",
    "        pickle.dump(model, modelFile)\n",
    "        predictions = model.predict(testData)\n",
    "        accuracyList.write(\"predicting: \" + label + \" \" + str(accuracy_score(testTarget, predictions)) + \"\\n\")\n",
    "        modelFile.close()\n",
    "        accuracyList.close()"
   ]
  },
  {
   "cell_type": "code",
   "execution_count": 1,
   "id": "44ac39e0",
   "metadata": {},
   "outputs": [],
   "source": [
    "def generateAccuracyGraph(path):\n",
    "    f = open(path, \"r\").readlines()\n",
    "    saveFolder = path.split(\"/\")[0] + \"/\"\n",
    "    modelName = []\n",
    "    accuracy = []\n",
    "    for line in f:\n",
    "        _, name, acc = line.split()\n",
    "        modelName.append(name)\n",
    "        accuracy.append((float(acc) * 100  // 0.1 / 10))\n",
    "    \n",
    "    graphData = pd.DataFrame(\n",
    "        {\n",
    "            \"name\" : modelName,\n",
    "            \"accuracy\" : accuracy\n",
    "        }\n",
    "    )\n",
    "    graphData = graphData.sort_values(by=\"accuracy\", ascending=False)\n",
    "    plt.figure(figsize=(20,10))\n",
    "    plt.bar(graphData[\"name\"], graphData[\"accuracy\"])\n",
    "    plt.title(\"Točnosti posameznih modelov generiranih z naivnim bayesom\")\n",
    "    plt.ylabel(\"Točnost modela v %\")\n",
    "    plt.xlabel(\"Ime modela\")\n",
    "    plt.xticks(rotation=45, ha=\"right\")\n",
    "    plt.ylim(0, 100)\n",
    "    plt.axis(\"tight\")\n",
    "    y_ticks = plt.gca().get_yticks()\n",
    "    plt.gca().set_yticklabels([f\"{int(val)}%\" if val.is_integer() else f\"{val:.1f}%\" for val in y_ticks])\n",
    "    plt.tight_layout()\n",
    "    plt.savefig(saveFolder + \"accuracy_graph.png\", dpi=300, bbox_inches='tight')\n",
    "    plt.show()\n",
    "    \n",
    "    \n"
   ]
  },
  {
   "cell_type": "code",
   "execution_count": 21,
   "id": "b89f6cc1",
   "metadata": {},
   "outputs": [
    {
     "name": "stdout",
     "output_type": "stream",
     "text": [
      "Getting cleaned data\n",
      "Removing unused columns\n",
      "Removing Nan values\n",
      "Discreticising UraPN\n",
      "Removing unknown GEOKooridnate\n",
      "Discreticising GEOKoordinate\n",
      "Removing unknown starost\n",
      "Discreticising starost\n",
      "Discreticising Vozniški staz v letih\n",
      "Discreticising vrednost alkotesta\n",
      "Discreticising vrednost strokovnega pregleda\n",
      "Saving and replacing string values with ints in: KlasifikacijaNesrece\n",
      "Saving and replacing string values with ints in: UpravnaEnotaStoritve\n",
      "Saving and replacing string values with ints in: VNaselju\n",
      "Saving and replacing string values with ints in: Lokacija\n",
      "Saving and replacing string values with ints in: VrstaCesteNaselja\n",
      "Saving and replacing string values with ints in: SifraCesteNaselja\n",
      "Saving and replacing string values with ints in: TekstCesteNaselja\n",
      "Saving and replacing string values with ints in: TekstOdsekaUlice\n",
      "Saving and replacing string values with ints in: OpisKraja\n",
      "Saving and replacing string values with ints in: VzrokNesrece\n",
      "Saving and replacing string values with ints in: TipNesrece\n",
      "Saving and replacing string values with ints in: VremenskeOkoliscine\n",
      "Saving and replacing string values with ints in: StanjePrometa\n",
      "Saving and replacing string values with ints in: StanjeVozisca\n",
      "Saving and replacing string values with ints in: VrstaVozisca\n",
      "Saving and replacing string values with ints in: Povzrocitelj\n",
      "Saving and replacing string values with ints in: Spol\n",
      "Saving and replacing string values with ints in: UEStalnegaPrebivalisca\n",
      "Saving and replacing string values with ints in: Drzavljanstvo\n",
      "Saving and replacing string values with ints in: PoskodbaUdelezenca\n",
      "Saving and replacing string values with ints in: VrstaUdelezenca\n",
      "Saving and replacing string values with ints in: UporabaVarnostnegaPasu\n"
     ]
    }
   ],
   "source": [
    "data = preprocessData()"
   ]
  },
  {
   "cell_type": "code",
   "execution_count": 22,
   "id": "738234bf",
   "metadata": {},
   "outputs": [],
   "source": [
    "#generateModelsNaiveBayas(data)\n"
   ]
  },
  {
   "cell_type": "code",
   "execution_count": null,
   "id": "b7ab6d51",
   "metadata": {},
   "outputs": [
    {
     "name": "stdout",
     "output_type": "stream",
     "text": [
      "Generating model: SifraCesteNaselja\n"
     ]
    },
    {
     "ename": "",
     "evalue": "",
     "output_type": "error",
     "traceback": [
      "\u001b[1;31mThe Kernel crashed while executing code in the current cell or a previous cell. \n",
      "\u001b[1;31mPlease review the code in the cell(s) to identify a possible cause of the failure. \n",
      "\u001b[1;31mClick <a href='https://aka.ms/vscodeJupyterKernelCrash'>here</a> for more info. \n",
      "\u001b[1;31mView Jupyter <a href='command:jupyter.viewOutput'>log</a> for further details."
     ]
    }
   ],
   "source": [
    "#generateModelsRandomForest(data)"
   ]
  },
  {
   "cell_type": "code",
   "execution_count": null,
   "id": "9861794a",
   "metadata": {},
   "outputs": [
    {
     "ename": "FileNotFoundError",
     "evalue": "[Errno 2] No such file or directory: 'models_naveBayas/accuracy.txt'",
     "output_type": "error",
     "traceback": [
      "\u001b[31m---------------------------------------------------------------------------\u001b[39m",
      "\u001b[31mFileNotFoundError\u001b[39m                         Traceback (most recent call last)",
      "\u001b[36mCell\u001b[39m\u001b[36m \u001b[39m\u001b[32mIn[2]\u001b[39m\u001b[32m, line 2\u001b[39m\n\u001b[32m      1\u001b[39m path = \u001b[33m\"\u001b[39m\u001b[33mmodels_naveBayas/accuracy.txt\u001b[39m\u001b[33m\"\u001b[39m\n\u001b[32m----> \u001b[39m\u001b[32m2\u001b[39m \u001b[43mgenerateAccuracyGraph\u001b[49m\u001b[43m(\u001b[49m\u001b[43mpath\u001b[49m\u001b[43m)\u001b[49m\n",
      "\u001b[36mCell\u001b[39m\u001b[36m \u001b[39m\u001b[32mIn[1]\u001b[39m\u001b[32m, line 2\u001b[39m, in \u001b[36mgenerateAccuracyGraph\u001b[39m\u001b[34m(path)\u001b[39m\n\u001b[32m      1\u001b[39m \u001b[38;5;28;01mdef\u001b[39;00m\u001b[38;5;250m \u001b[39m\u001b[34mgenerateAccuracyGraph\u001b[39m(path):\n\u001b[32m----> \u001b[39m\u001b[32m2\u001b[39m     f = \u001b[38;5;28;43mopen\u001b[39;49m\u001b[43m(\u001b[49m\u001b[43mpath\u001b[49m\u001b[43m,\u001b[49m\u001b[43m \u001b[49m\u001b[33;43m\"\u001b[39;49m\u001b[33;43mr\u001b[39;49m\u001b[33;43m\"\u001b[39;49m\u001b[43m)\u001b[49m.readlines()\n\u001b[32m      3\u001b[39m     saveFolder = path.split(\u001b[33m\"\u001b[39m\u001b[33m/\u001b[39m\u001b[33m\"\u001b[39m)[\u001b[32m0\u001b[39m] + \u001b[33m\"\u001b[39m\u001b[33m/\u001b[39m\u001b[33m\"\u001b[39m\n\u001b[32m      4\u001b[39m     modelName = []\n",
      "\u001b[36mFile \u001b[39m\u001b[32m~/miniforge3/envs/dataMining/lib/python3.13/site-packages/IPython/core/interactiveshell.py:325\u001b[39m, in \u001b[36m_modified_open\u001b[39m\u001b[34m(file, *args, **kwargs)\u001b[39m\n\u001b[32m    318\u001b[39m \u001b[38;5;28;01mif\u001b[39;00m file \u001b[38;5;129;01min\u001b[39;00m {\u001b[32m0\u001b[39m, \u001b[32m1\u001b[39m, \u001b[32m2\u001b[39m}:\n\u001b[32m    319\u001b[39m     \u001b[38;5;28;01mraise\u001b[39;00m \u001b[38;5;167;01mValueError\u001b[39;00m(\n\u001b[32m    320\u001b[39m         \u001b[33mf\u001b[39m\u001b[33m\"\u001b[39m\u001b[33mIPython won\u001b[39m\u001b[33m'\u001b[39m\u001b[33mt let you open fd=\u001b[39m\u001b[38;5;132;01m{\u001b[39;00mfile\u001b[38;5;132;01m}\u001b[39;00m\u001b[33m by default \u001b[39m\u001b[33m\"\u001b[39m\n\u001b[32m    321\u001b[39m         \u001b[33m\"\u001b[39m\u001b[33mas it is likely to crash IPython. If you know what you are doing, \u001b[39m\u001b[33m\"\u001b[39m\n\u001b[32m    322\u001b[39m         \u001b[33m\"\u001b[39m\u001b[33myou can use builtins\u001b[39m\u001b[33m'\u001b[39m\u001b[33m open.\u001b[39m\u001b[33m\"\u001b[39m\n\u001b[32m    323\u001b[39m     )\n\u001b[32m--> \u001b[39m\u001b[32m325\u001b[39m \u001b[38;5;28;01mreturn\u001b[39;00m \u001b[43mio_open\u001b[49m\u001b[43m(\u001b[49m\u001b[43mfile\u001b[49m\u001b[43m,\u001b[49m\u001b[43m \u001b[49m\u001b[43m*\u001b[49m\u001b[43margs\u001b[49m\u001b[43m,\u001b[49m\u001b[43m \u001b[49m\u001b[43m*\u001b[49m\u001b[43m*\u001b[49m\u001b[43mkwargs\u001b[49m\u001b[43m)\u001b[49m\n",
      "\u001b[31mFileNotFoundError\u001b[39m: [Errno 2] No such file or directory: 'models_naveBayas/accuracy.txt'"
     ]
    }
   ],
   "source": [
    "path = \"models_naiveBayas/accuracy.txt\"\n",
    "generateAccuracyGraph(path)"
   ]
  }
 ],
 "metadata": {
  "kernelspec": {
   "display_name": "dataMining",
   "language": "python",
   "name": "python3"
  },
  "language_info": {
   "codemirror_mode": {
    "name": "ipython",
    "version": 3
   },
   "file_extension": ".py",
   "mimetype": "text/x-python",
   "name": "python",
   "nbconvert_exporter": "python",
   "pygments_lexer": "ipython3",
   "version": "3.13.2"
  }
 },
 "nbformat": 4,
 "nbformat_minor": 5
}
