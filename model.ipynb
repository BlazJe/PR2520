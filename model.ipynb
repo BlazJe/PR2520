{
 "cells": [
  {
   "cell_type": "code",
   "execution_count": null,
   "id": "0",
   "metadata": {},
   "outputs": [],
   "source": [
    "import pickle\n",
    "import pandas as pd\n",
    "import os\n",
    "import json\n",
    "\n",
    "from sklearn.naive_bayes import MultinomialNB\n",
    "from sklearn.ensemble import RandomForestClassifier\n",
    "from sklearn.ensemble import HistGradientBoostingClassifier\n",
    "from sklearn.model_selection import train_test_split\n",
    "from sklearn.metrics import accuracy_score\n",
    "from concurrent.futures import ProcessPoolExecutor\n",
    "\n",
    "import matplotlib.pyplot as plt\n",
    "\n",
    "pd.set_option('future.no_silent_downcasting', True)"
   ]
  },
  {
   "cell_type": "code",
   "execution_count": null,
   "id": "1",
   "metadata": {},
   "outputs": [],
   "source": [
    "def cleanedData():\n",
    "\n",
    "    print(\"Getting cleaned data\")\n",
    "\n",
    "    directory = './podatki'\n",
    "    data = []\n",
    "    max_zaporedna_stevilka = 0  \n",
    "\n",
    "    for filename in os.listdir(directory):\n",
    "        if filename.endswith(\".csv\"):\n",
    "            filepath = os.path.join(directory, filename)\n",
    "            try:\n",
    "                frame = pd.read_csv(\n",
    "                    filepath,\n",
    "                    delimiter=';',\n",
    "                    encoding='utf-8',\n",
    "                )\n",
    "                frame['ZaporednaStevilkaPN'] += max_zaporedna_stevilka\n",
    "                max_zaporedna_stevilka = frame['ZaporednaStevilkaPN'].max()  \n",
    "\n",
    "                data.append(frame)\n",
    "            except Exception as e:\n",
    "                print(f\"Napaka pri branju {filename}: {str(e)}\")\n",
    "                continue\n",
    "\n",
    "    combined_data = pd.concat(data, ignore_index=True)\n",
    "    return combined_data"
   ]
  },
  {
   "cell_type": "markdown",
   "id": "2",
   "metadata": {},
   "source": [
    "Pridobi vse različne podatke nekega stolpca"
   ]
  },
  {
   "cell_type": "code",
   "execution_count": null,
   "id": "3",
   "metadata": {},
   "outputs": [],
   "source": [
    "def printAllValues(data, colum):\n",
    "    print(colum + \": \", data[colum].unique())"
   ]
  },
  {
   "cell_type": "markdown",
   "id": "4",
   "metadata": {},
   "source": [
    "Odstani neuporabne parametre za model"
   ]
  },
  {
   "cell_type": "code",
   "execution_count": null,
   "id": "5",
   "metadata": {},
   "outputs": [],
   "source": [
    "def removeUnusedColumns(data):\n",
    "    print(\"Removing unused columns\")\n",
    "\n",
    "    data = data.drop(columns=[\"DatumPN\", \"ZaporednaStevilkaOsebeVPN\", \"VozniskiStazVMesecih\", \"ZaporednaStevilkaPN\"])\n",
    "    return data"
   ]
  },
  {
   "cell_type": "markdown",
   "id": "6",
   "metadata": {},
   "source": [
    "Odstrani vse vrstice, pri katerih nekateri stolpci nimajo vrednosti"
   ]
  },
  {
   "cell_type": "code",
   "execution_count": null,
   "id": "7",
   "metadata": {},
   "outputs": [],
   "source": [
    "def removeNaNValues(data):\n",
    "    print(\"Removing Nan values\")\n",
    "    return data.dropna()"
   ]
  },
  {
   "cell_type": "markdown",
   "id": "8",
   "metadata": {},
   "source": [
    "Pretvorba ure prometne nesreče iz zvezne v diskretno spremenljivko. Primer: 23.15 -> 23"
   ]
  },
  {
   "cell_type": "code",
   "execution_count": null,
   "id": "9",
   "metadata": {},
   "outputs": [],
   "source": [
    "def discretsizeUraPN(data):\n",
    "    print(\"Discreticising UraPN\")\n",
    "    data[\"UraPN\"] = (data[\"UraPN\"] // 1).astype(int)\n",
    "    return data"
   ]
  },
  {
   "cell_type": "markdown",
   "id": "10",
   "metadata": {},
   "source": [
    "Odstrani vrstice brez koordinat"
   ]
  },
  {
   "cell_type": "code",
   "execution_count": null,
   "id": "11",
   "metadata": {},
   "outputs": [],
   "source": [
    "def removeUnknownGeoKoordinata(data):\n",
    "    print(\"Removing unknown GEOKooridnate\")\n",
    "    data = data[(data[\"GeoKoordinataX\"] != 0) & (data[\"GeoKoordinataY\"] != 0)]\n",
    "    return data"
   ]
  },
  {
   "cell_type": "markdown",
   "id": "12",
   "metadata": {},
   "source": [
    "Pretvorba zveznih koordinat v diskretne. Po pretvorbi lahko gledamo na podatke kot neko mrežo. Primer: 51263 -> 5"
   ]
  },
  {
   "cell_type": "code",
   "execution_count": null,
   "id": "13",
   "metadata": {},
   "outputs": [],
   "source": [
    "def descretisizeGeoKoordinata(data):\n",
    "    print(\"Discreticising GEOKoordinate\")\n",
    "    data[\"GeoKoordinataX\"] = data[\"GeoKoordinataX\"] // 10000\n",
    "    data[\"GeoKoordinataY\"] = data[\"GeoKoordinataY\"] // 10000\n",
    "    return data"
   ]
  },
  {
   "cell_type": "markdown",
   "id": "14",
   "metadata": {},
   "source": [
    "Odstrani vse vrstice, pri katerih starost ni znana"
   ]
  },
  {
   "cell_type": "code",
   "execution_count": null,
   "id": "15",
   "metadata": {},
   "outputs": [],
   "source": [
    "def removeUnknownStarost(data):\n",
    "    print(\"Removing unknown starost\")\n",
    "    data = data[data[\"Starost\"] != -1]\n",
    "    return data"
   ]
  },
  {
   "cell_type": "markdown",
   "id": "16",
   "metadata": {},
   "source": [
    "Pretvorba starosti iz \"zvezne\" spremenljivko v diskretno. Primer: 23 -> 2 (pomen: udeleženec star 20-30 let)"
   ]
  },
  {
   "cell_type": "code",
   "execution_count": null,
   "id": "17",
   "metadata": {},
   "outputs": [],
   "source": [
    "def discretsizeStarost(data):\n",
    "    print(\"Discreticising starost\")\n",
    "    data[\"Starost\"] = (data[\"Starost\"] // 10).astype(int)\n",
    "    return data"
   ]
  },
  {
   "cell_type": "markdown",
   "id": "18",
   "metadata": {},
   "source": [
    "Pretvorba Vozniškega staza v letih iz \"zvezne\" spremenljivko v diskretno. Primer: 23 -> 2 (pomen: udeležencev vozniški staz 20-30 let)"
   ]
  },
  {
   "cell_type": "code",
   "execution_count": null,
   "id": "19",
   "metadata": {},
   "outputs": [],
   "source": [
    "def discretsizeVoznikStazVLetih(data):\n",
    "    print(\"Discreticising Vozniški staz v letih\")\n",
    "    data[\"VozniskiStazVLetih\"] = (data[\"VozniskiStazVLetih\"] // 10).astype(int)\n",
    "    return data"
   ]
  },
  {
   "cell_type": "markdown",
   "id": "20",
   "metadata": {},
   "source": [
    "Pretvorba vrednost alkotesta iz zvezne v diskrteno spremenljivko. Primer 0.12 -> 1 (pomen: vrednost alkotesta 0.1-0.2). Ob napovedi potrebno deliti napoved z 10"
   ]
  },
  {
   "cell_type": "code",
   "execution_count": null,
   "id": "21",
   "metadata": {},
   "outputs": [],
   "source": [
    "def discretsizeVrednostAlkotesta(data):\n",
    "    print(\"Discreticising vrednost alkotesta\")\n",
    "    data[\"VrednostAlkotesta\"] = data[\"VrednostAlkotesta\"].str.replace(\",\", \".\").astype(float)\n",
    "    data[\"VrednostAlkotesta\"] = data[\"VrednostAlkotesta\"].round(1) * 10\n",
    "    data[\"VrednostAlkotesta\"] = data[\"VrednostAlkotesta\"].astype(int)\n",
    "    return data"
   ]
  },
  {
   "cell_type": "markdown",
   "id": "22",
   "metadata": {},
   "source": [
    "Pretvorba vrednost strokovnega pregleda iz zvezne v diskrteno spremenljivko. Primer 1.12 -> 11 (pomen: vrednost pregleda 1.1-1.2). Ob napovedi potrebno deliti napoved z 10"
   ]
  },
  {
   "cell_type": "code",
   "execution_count": null,
   "id": "23",
   "metadata": {},
   "outputs": [],
   "source": [
    "def discretsizeVrednostStrokovnegaPregleda(data):\n",
    "    print(\"Discreticising vrednost strokovnega pregleda\")\n",
    "    data[\"VrednostStrokovnegaPregleda\"] = data[\"VrednostStrokovnegaPregleda\"].str.replace(\",\", \".\").astype(float)\n",
    "    data[\"VrednostStrokovnegaPregleda\"] = data[\"VrednostStrokovnegaPregleda\"].round(1) * 10\n",
    "    data[\"VrednostStrokovnegaPregleda\"] = data[\"VrednostStrokovnegaPregleda\"].astype(int)\n",
    "    return data"
   ]
  },
  {
   "cell_type": "markdown",
   "id": "ee62accd",
   "metadata": {},
   "source": [
    "Mapiranje string vrednosti v int vrednosti in shranjevanje v json datoteke"
   ]
  },
  {
   "cell_type": "code",
   "execution_count": 14,
   "id": "92e6ca6a",
   "metadata": {},
   "outputs": [],
   "source": [
    "def process_column(args):\n",
    "        \n",
    "        dataToPredictionPath = \"data_To_Prediction/\"\n",
    "        predictionToDataPath = \"prediction_To_Data/\"\n",
    "\n",
    "        column, colData = args\n",
    "        print(\"Saving and replacing string values with ints in: \" + column)\n",
    "\n",
    "        strToInt = dict()\n",
    "        intToStr = dict()\n",
    "\n",
    "        distinctColumnData = colData.unique().tolist()\n",
    "        for intVal, strVal in enumerate(distinctColumnData):\n",
    "            strToInt[strVal] = intVal\n",
    "            intToStr[intVal] = strVal\n",
    "\n",
    "        with open(dataToPredictionPath + column + \".json\", \"w\") as f1:\n",
    "            json.dump(strToInt, f1, indent=4)\n",
    "\n",
    "        with open(predictionToDataPath + column + \".json\", \"w\") as f2:\n",
    "            json.dump(intToStr, f2, indent=4)\n",
    "\n",
    "\n",
    "        updated_col = colData.replace(strToInt)\n",
    "\n",
    "        return column, updated_col"
   ]
  },
  {
   "cell_type": "markdown",
   "id": "0256c3a3",
   "metadata": {},
   "source": [
    "Zamenja vse string vrednosti z ekvivalentinimi mapiranji int-ov."
   ]
  },
  {
   "cell_type": "code",
   "execution_count": 15,
   "id": "f482ebd0",
   "metadata": {},
   "outputs": [],
   "source": [
    "def replaceStringData(data):\n",
    "    textData = [col for col in data.columns if pd.api.types.is_string_dtype(data[col])]\n",
    "\n",
    "    args = [(col, data[col]) for col in textData]\n",
    "\n",
    "    with ProcessPoolExecutor(max_workers=os.cpu_count()) as executor:\n",
    "        results = executor.map(process_column, args)\n",
    "\n",
    "    for column, updatedCol in results:\n",
    "        data[column] = updatedCol.astype(int)\n",
    "\n",
    "    return data"
   ]
  },
  {
   "cell_type": "markdown",
   "id": "24",
   "metadata": {},
   "source": [
    "Preprocesiranje podatkov"
   ]
  },
  {
   "cell_type": "code",
<<<<<<< HEAD
   "execution_count": null,
   "id": "25",
=======
   "execution_count": 16,
   "id": "675371b1",
>>>>>>> dev_zan
   "metadata": {},
   "outputs": [],
   "source": [
    "def preprocessData():\n",
    "    cleanData = cleanedData()\n",
    "    selectedColumns = removeUnusedColumns(cleanData)\n",
    "    selectedColumns = removeNaNValues(selectedColumns)\n",
    "    selectedColumns = discretsizeUraPN(selectedColumns)\n",
    "    selectedColumns = removeUnknownGeoKoordinata(selectedColumns)\n",
    "    selectedColumns = descretisizeGeoKoordinata(selectedColumns)\n",
    "    selectedColumns = removeUnknownStarost(selectedColumns)\n",
    "    selectedColumns = discretsizeStarost(selectedColumns)\n",
    "    selectedColumns = discretsizeVoznikStazVLetih(selectedColumns)\n",
    "    selectedColumns = discretsizeVrednostAlkotesta(selectedColumns)\n",
    "    selectedColumns = discretsizeVrednostStrokovnegaPregleda(selectedColumns)\n",
    "    selectedColumns = replaceStringData(selectedColumns)\n",
    "    return selectedColumns\n"
   ]
  },
  {
   "cell_type": "markdown",
<<<<<<< HEAD
   "id": "26",
=======
   "id": "12cb6273",
   "metadata": {},
   "source": [
    "Generiranje modelov z random forest-om izpuščeni tisti stolpci, ki imajo več kot 1000 različnih vrednosti."
   ]
  },
  {
   "cell_type": "code",
   "execution_count": 17,
   "id": "bb24ae91",
   "metadata": {},
   "outputs": [],
   "source": [
    "def generateModelsRandomForest(data):\n",
    "    modelPath = \"models_Random_Forest/\"\n",
    "    accuracyList = open(modelPath + \"accuracy.txt\", \"w\")\n",
    "    for label in data.columns:\n",
    "        if (len(data[label].unique().tolist()) > 1000):\n",
    "            print(\"Skipping model: \" + label + \" Not enough compute\")\n",
    "            continue\n",
    "        modelFile = open(modelPath + label + \"_model.pkl\", \"wb\")\n",
    "        \n",
    "\n",
    "        print(\"Generating model: \" + label)\n",
    "\n",
    "        targetVariable = data[label]\n",
    "        learningData = data.drop(columns=[label])\n",
    "\n",
    "        trainData, testData, trainTarget, testTarget = train_test_split(learningData, targetVariable, test_size=0.2)\n",
    "        model = model = RandomForestClassifier(\n",
    "            n_estimators=200,       \n",
    "            max_depth=20,           \n",
    "            min_samples_split=5,    \n",
    "            min_samples_leaf=2,     \n",
    "            max_features='sqrt',    \n",
    "            n_jobs=-1,              \n",
    "            random_state=42      \n",
    "        )\n",
    "        model.fit(trainData, trainTarget)\n",
    "        pickle.dump(model, modelFile)\n",
    "        predictions = model.predict(testData)\n",
    "        accuracyList.write(\"predicting: \" + label + \" \" + str(accuracy_score(testTarget, predictions)) + \"\\n\")\n",
    "        modelFile.close()\n",
    "    accuracyList.close()"
   ]
  },
  {
   "cell_type": "markdown",
   "id": "6be6c72b",
>>>>>>> dev_zan
   "metadata": {},
   "source": [
    "Generiranje modelov z naivinim bayasom"
   ]
  },
  {
   "cell_type": "code",
<<<<<<< HEAD
   "execution_count": null,
   "id": "27",
=======
   "execution_count": 18,
   "id": "2e5df73e",
>>>>>>> dev_zan
   "metadata": {},
   "outputs": [],
   "source": [
    "def generateModelsNaiveBayas(data):\n",
    "    modelPath = \"models_naiveBayas/\"\n",
    "    accuracyList = open(modelPath + \"accuracy.txt\", \"w\")\n",
    "    for label in data.columns:\n",
    "        modelFile = open(modelPath + label + \"_model.pkl\", \"wb\")\n",
    "        \n",
    "\n",
    "        print(\"Generating model: \" + label)\n",
    "\n",
    "        targetVariable = data[label]\n",
    "        learningData = data.drop(columns=[label])\n",
    "\n",
    "        trainData, testData, trainTarget, testTarget = train_test_split(learningData, targetVariable, test_size=0.2)\n",
    "        model = MultinomialNB()\n",
    "        model.fit(trainData, trainTarget)\n",
    "        pickle.dump(model, modelFile)\n",
    "        predictions = model.predict(testData)\n",
    "        accuracyList.write(\"predicting: \" + label + \" \" + str(accuracy_score(testTarget, predictions)) + \"\\n\")\n",
    "        modelFile.close()\n",
    "    accuracyList.close()"
   ]
  },
  {
   "cell_type": "markdown",
   "id": "fbca90a7",
   "metadata": {},
   "source": [
    "Generira graf točnosti modela."
   ]
  },
  {
   "cell_type": "code",
<<<<<<< HEAD
   "execution_count": null,
   "id": "28",
=======
   "execution_count": 19,
   "id": "44ac39e0",
>>>>>>> dev_zan
   "metadata": {},
   "outputs": [],
   "source": [
    "def generateAccuracyGraph(path):\n",
    "    f = open(path, \"r\").readlines()\n",
    "    paths = path.split(\"/\")\n",
    "    saveFolder = paths[0] + \"/\"\n",
    "\n",
    "    methodUsed = \"\"\n",
    "    for partOfName in paths[0].split(\"_\"):\n",
    "        if (partOfName != \"models\"):\n",
    "            methodUsed += partOfName + \" \"\n",
    "            \n",
    "    modelName = []\n",
    "    accuracy = []\n",
    "    for line in f:\n",
    "        _, name, acc = line.split()\n",
    "        modelName.append(name)\n",
    "        accuracy.append((float(acc) * 100  // 0.1 / 10))\n",
    "    \n",
    "    graphData = pd.DataFrame(\n",
    "        {\n",
    "            \"name\" : modelName,\n",
    "            \"accuracy\" : accuracy\n",
    "        }\n",
    "    )\n",
    "    graphData = graphData.sort_values(by=\"accuracy\", ascending=False)\n",
    "    plt.figure(figsize=(20,10))\n",
    "    plt.bar(graphData[\"name\"], graphData[\"accuracy\"])\n",
    "    plt.title(\"Točnosti posameznih modelov generiranih z \" + methodUsed)\n",
    "    plt.ylabel(\"Točnost modela v %\")\n",
    "    plt.xlabel(\"Ime modela\")\n",
    "    plt.xticks(rotation=45, ha=\"right\")\n",
    "    plt.ylim(0, 100)\n",
    "    plt.axis(\"tight\")\n",
    "    y_ticks = plt.gca().get_yticks()\n",
    "    plt.gca().set_yticklabels([f\"{int(val)}%\" if val.is_integer() else f\"{val:.1f}%\" for val in y_ticks])\n",
    "    plt.tight_layout()\n",
    "    plt.savefig(saveFolder + \"accuracy_graph.png\", dpi=300, bbox_inches='tight')\n",
    "    plt.show()\n",
    "    \n",
    "    \n"
   ]
  },
  {
   "cell_type": "code",
<<<<<<< HEAD
   "execution_count": null,
   "id": "29",
=======
   "execution_count": 20,
   "id": "b89f6cc1",
>>>>>>> dev_zan
   "metadata": {},
   "outputs": [],
   "source": [
    "#data = preprocessData()"
   ]
  },
  {
   "cell_type": "code",
<<<<<<< HEAD
   "execution_count": null,
   "id": "30",
=======
   "execution_count": 21,
   "id": "738234bf",
>>>>>>> dev_zan
   "metadata": {},
   "outputs": [],
   "source": [
    "#generateModelsNaiveBayas(data)\n"
   ]
  },
  {
   "cell_type": "code",
   "execution_count": 22,
   "id": "b7ab6d51",
   "metadata": {},
   "outputs": [],
   "source": [
    "#generateModelsRandomForest(data)"
   ]
  },
  {
   "cell_type": "code",
   "execution_count": 23,
   "id": "9861794a",
   "metadata": {},
   "outputs": [],
   "source": [
    "#path = \"models_Random_Forest/accuracy.txt\"\n",
    "#generateAccuracyGraph(path)"
   ]
  }
 ],
 "metadata": {
  "kernelspec": {
<<<<<<< HEAD
   "display_name": "PR2520",
=======
   "display_name": "Python 3",
>>>>>>> dev_zan
   "language": "python",
   "name": "python3"
  },
  "language_info": {
   "codemirror_mode": {
    "name": "ipython",
    "version": 3
   },
   "file_extension": ".py",
   "mimetype": "text/x-python",
   "name": "python",
   "nbconvert_exporter": "python",
   "pygments_lexer": "ipython3",
   "version": "3.13.3"
  }
 },
 "nbformat": 4,
 "nbformat_minor": 5
}
