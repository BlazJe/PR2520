{
 "cells": [
  {
   "cell_type": "code",
   "execution_count": null,
   "id": "0",
   "metadata": {},
   "outputs": [],
   "source": [
    "import pickle\n",
    "import pandas as pd\n",
    "import os\n",
    "\n",
    "from sklearn.naive_bayes import MultinomialNB\n",
    "from sklearn.model_selection import train_test_split\n",
    "from sklearn.metrics import accuracy_score\n",
    "from sklearn.feature_extraction.text import CountVectorizer\n",
    "from sklearn.preprocessing import FunctionTransformer\n",
    "from scipy.sparse import hstack\n",
    "from scipy.sparse import csr_matrix\n",
    "from sklearn.neural_network import MLPClassifier\n",
    "from sklearn.preprocessing import StandardScaler\n",
    "import matplotlib.pyplot as plt"
   ]
  },
  {
   "cell_type": "code",
   "execution_count": null,
   "id": "1",
   "metadata": {},
   "outputs": [],
   "source": [
    "def cleanedData():\n",
    "\n",
    "    directory = './podatki'\n",
    "    data = []\n",
    "    max_zaporedna_stevilka = 0  \n",
    "\n",
    "    for filename in os.listdir(directory):\n",
    "        if filename.endswith(\".csv\"):\n",
    "            filepath = os.path.join(directory, filename)\n",
    "            try:\n",
    "                frame = pd.read_csv(\n",
    "                    filepath,\n",
    "                    delimiter=';',\n",
    "                    encoding='utf-8',\n",
    "                )\n",
    "                frame['ZaporednaStevilkaPN'] += max_zaporedna_stevilka\n",
    "                max_zaporedna_stevilka = frame['ZaporednaStevilkaPN'].max()  \n",
    "\n",
    "                data.append(frame)\n",
    "            except Exception as e:\n",
    "                print(f\"Napaka pri branju {filename}: {str(e)}\")\n",
    "                continue\n",
    "\n",
    "    combined_data = pd.concat(data, ignore_index=True)\n",
    "    return combined_data"
   ]
  },
  {
   "cell_type": "markdown",
   "id": "2",
   "metadata": {},
   "source": [
    "Pridobi vse različne podatke nekega stolpca"
   ]
  },
  {
   "cell_type": "code",
   "execution_count": null,
   "id": "3",
   "metadata": {},
   "outputs": [],
   "source": [
    "def printAllValues(data, colum):\n",
    "    print(colum + \": \", data[colum].unique())"
   ]
  },
  {
   "cell_type": "markdown",
   "id": "4",
   "metadata": {},
   "source": [
    "Odstani neuporabne parametre za model"
   ]
  },
  {
   "cell_type": "code",
   "execution_count": null,
   "id": "5",
   "metadata": {},
   "outputs": [],
   "source": [
    "def removeUnusedColumns(data):\n",
    "    data = data.drop(columns=[\"DatumPN\", \"ZaporednaStevilkaOsebeVPN\", \"VozniskiStazVMesecih\", \"ZaporednaStevilkaPN\"])\n",
    "    return data"
   ]
  },
  {
   "cell_type": "markdown",
   "id": "6",
   "metadata": {},
   "source": [
    "Odstrani vse vrstice, pri katerih nekateri stolpci nimajo vrednosti"
   ]
  },
  {
   "cell_type": "code",
   "execution_count": null,
   "id": "7",
   "metadata": {},
   "outputs": [],
   "source": [
    "def removeNaNValues(data):\n",
    "    return data.dropna()"
   ]
  },
  {
   "cell_type": "markdown",
   "id": "8",
   "metadata": {},
   "source": [
    "Pretvorba ure prometne nesreče iz zvezne v diskretno spremenljivko. Primer: 23.15 -> 23"
   ]
  },
  {
   "cell_type": "code",
   "execution_count": null,
   "id": "9",
   "metadata": {},
   "outputs": [],
   "source": [
    "def discretsizeUraPN(data):\n",
    "    data[\"UraPN\"] = (data[\"UraPN\"] // 1).astype(int)\n",
    "    return data"
   ]
  },
  {
   "cell_type": "markdown",
   "id": "10",
   "metadata": {},
   "source": [
    "Odstrani vrstice brez koordinat"
   ]
  },
  {
   "cell_type": "code",
   "execution_count": null,
   "id": "11",
   "metadata": {},
   "outputs": [],
   "source": [
    "def removeUnknownGeoKoordinata(data):\n",
    "    data = data[(data[\"GeoKoordinataX\"] != 0) & (data[\"GeoKoordinataY\"] != 0)]\n",
    "    return data"
   ]
  },
  {
   "cell_type": "markdown",
   "id": "12",
   "metadata": {},
   "source": [
    "Pretvorba zveznih koordinat v diskretne. Po pretvorbi lahko gledamo na podatke kot neko mrežo. Primer: 51263 -> 5"
   ]
  },
  {
   "cell_type": "code",
   "execution_count": null,
   "id": "13",
   "metadata": {},
   "outputs": [],
   "source": [
    "def descretisizeGeoKoordinata(data):\n",
    "    data[\"GeoKoordinataX\"] = data[\"GeoKoordinataX\"] // 10000\n",
    "    data[\"GeoKoordinataY\"] = data[\"GeoKoordinataY\"] // 10000\n",
    "    return data"
   ]
  },
  {
   "cell_type": "markdown",
   "id": "14",
   "metadata": {},
   "source": [
    "Odstrani vse vrstice, pri katerih starost ni znana"
   ]
  },
  {
   "cell_type": "code",
   "execution_count": null,
   "id": "15",
   "metadata": {},
   "outputs": [],
   "source": [
    "def removeUnknownStarost(data):\n",
    "    data = data[data[\"Starost\"] != -1]\n",
    "    return data"
   ]
  },
  {
   "cell_type": "markdown",
   "id": "16",
   "metadata": {},
   "source": [
    "Pretvorba starosti iz \"zvezne\" spremenljivko v diskretno. Primer: 23 -> 2 (pomen: udeleženec star 20-30 let)"
   ]
  },
  {
   "cell_type": "code",
   "execution_count": null,
   "id": "17",
   "metadata": {},
   "outputs": [],
   "source": [
    "def discretsizeStarost(data):\n",
    "    data[\"Starost\"] = (data[\"Starost\"] // 10).astype(int)\n",
    "    return data"
   ]
  },
  {
   "cell_type": "markdown",
   "id": "18",
   "metadata": {},
   "source": [
    "Pretvorba Vozniškega staza v letih iz \"zvezne\" spremenljivko v diskretno. Primer: 23 -> 2 (pomen: udeležencev vozniški staz 20-30 let)"
   ]
  },
  {
   "cell_type": "code",
   "execution_count": null,
   "id": "19",
   "metadata": {},
   "outputs": [],
   "source": [
    "def discretsizeVoznikStazVLetih(data):\n",
    "    data[\"VozniskiStazVLetih\"] = (data[\"VozniskiStazVLetih\"] // 10).astype(int)\n",
    "    return data"
   ]
  },
  {
   "cell_type": "markdown",
   "id": "20",
   "metadata": {},
   "source": [
    "Pretvorba vrednost alkotesta iz zvezne v diskrteno spremenljivko. Primer 0.12 -> 1 (pomen: vrednost alkotesta 0.1-0.2). Ob napovedi potrebno deliti napoved z 10"
   ]
  },
  {
   "cell_type": "code",
   "execution_count": null,
   "id": "21",
   "metadata": {},
   "outputs": [],
   "source": [
    "def discretsizeVrednostAlkotesta(data):\n",
    "    data[\"VrednostAlkotesta\"] = data[\"VrednostAlkotesta\"].str.replace(\",\", \".\").astype(float)\n",
    "    data[\"VrednostAlkotesta\"] = data[\"VrednostAlkotesta\"].round(1) * 10\n",
    "    data[\"VrednostAlkotesta\"] = data[\"VrednostAlkotesta\"].astype(int)\n",
    "    return data"
   ]
  },
  {
   "cell_type": "markdown",
   "id": "22",
   "metadata": {},
   "source": [
    "Pretvorba vrednost strokovnega pregleda iz zvezne v diskrteno spremenljivko. Primer 1.12 -> 11 (pomen: vrednost pregleda 1.1-1.2). Ob napovedi potrebno deliti napoved z 10"
   ]
  },
  {
   "cell_type": "code",
   "execution_count": null,
   "id": "23",
   "metadata": {},
   "outputs": [],
   "source": [
    "def discretsizeVrednostStrokovnegaPregleda(data):\n",
    "    data[\"VrednostStrokovnegaPregleda\"] = data[\"VrednostStrokovnegaPregleda\"].str.replace(\",\", \".\").astype(float)\n",
    "    data[\"VrednostStrokovnegaPregleda\"] = data[\"VrednostStrokovnegaPregleda\"].round(1) * 10\n",
    "    data[\"VrednostStrokovnegaPregleda\"] = data[\"VrednostStrokovnegaPregleda\"].astype(float)\n",
    "    return data"
   ]
  },
  {
   "cell_type": "markdown",
   "id": "24",
   "metadata": {},
   "source": [
    "Preprocesiranje podatkov"
   ]
  },
  {
   "cell_type": "code",
   "execution_count": null,
   "id": "25",
   "metadata": {},
   "outputs": [],
   "source": [
    "def preprocessData():\n",
    "    cleanData = cleanedData()\n",
    "    selectedColumns = removeUnusedColumns(cleanData)\n",
    "    selectedColumns = removeNaNValues(selectedColumns)\n",
    "    selectedColumns = discretsizeUraPN(selectedColumns)\n",
    "    selectedColumns = removeUnknownGeoKoordinata(selectedColumns)\n",
    "    selectedColumns = descretisizeGeoKoordinata(selectedColumns)\n",
    "    selectedColumns = removeUnknownStarost(selectedColumns)\n",
    "    selectedColumns = discretsizeStarost(selectedColumns)\n",
    "    selectedColumns = discretsizeVoznikStazVLetih(selectedColumns)\n",
    "    selectedColumns = discretsizeVrednostAlkotesta(selectedColumns)\n",
    "    selectedColumns = discretsizeVrednostStrokovnegaPregleda(selectedColumns)\n",
    "    return selectedColumns\n"
   ]
  },
  {
   "cell_type": "markdown",
   "id": "26",
   "metadata": {},
   "source": [
    "Generiranje modelov z naivinim bayasom"
   ]
  },
  {
   "cell_type": "code",
   "execution_count": null,
   "id": "27",
   "metadata": {},
   "outputs": [],
   "source": [
    "def generateModelsNaiveBayas():\n",
    "    data = preprocessData()\n",
    "    textData = [column for column in data.columns if pd.api.types.is_string_dtype(data[column])]\n",
    "    numericData = [column for column in data.columns if pd.api.types.is_numeric_dtype(data[column])]\n",
    "    vectorizers = {column: CountVectorizer() for column in textData}\n",
    "    textParts = hstack([vectorizers[column].fit_transform(data[column]) for column in textData])\n",
    "    numericParts = data[numericData].values\n",
    "    numericParts = FunctionTransformer(lambda x: x).fit_transform(numericParts)\n",
    "    finalData = hstack([textParts, csr_matrix(numericParts)])\n",
    "    accuracyList = open(\"models_naiveBayas/accuracy.txt\", \"w\")\n",
    "    for label in data.columns:\n",
    "        modelFile = open(\"models_naiveBayas/\" + label + \"_model.pkl\", \"wb\")\n",
    "        targetVariable = data[label]\n",
    "        trainData, testData, trainTarget, testTarget = train_test_split(finalData, targetVariable, test_size=0.2)\n",
    "        model = MultinomialNB()\n",
    "        model.fit(trainData, trainTarget)\n",
    "        pickle.dump(model, modelFile)\n",
    "        predictions = model.predict(testData)\n",
    "        accuracyList.write(\"predicting: \" + label + \" \" + str(accuracy_score(testTarget, predictions)) + \"\\n\")\n",
    "        modelFile.close()\n",
    "    accuracyList.close()"
   ]
  },
  {
   "cell_type": "code",
   "execution_count": null,
   "id": "28",
   "metadata": {},
   "outputs": [],
   "source": [
    "def generateAccuracyGraph():\n",
    "    f = open(\"models_naiveBayas/accuracy.txt\", \"r\").readlines()\n",
    "    modelName = []\n",
    "    accuracy = []\n",
    "    for line in f:\n",
    "        _, name, acc = line.split()\n",
    "        modelName.append(name)\n",
    "        accuracy.append((float(acc) * 100  // 0.1 / 10))\n",
    "    \n",
    "    graphData = pd.DataFrame(\n",
    "        {\n",
    "            \"name\" : modelName,\n",
    "            \"accuracy\" : accuracy\n",
    "        }\n",
    "    )\n",
    "    graphData = graphData.sort_values(by=\"accuracy\", ascending=False)\n",
    "    plt.figure(figsize=(20,10))\n",
    "    plt.bar(graphData[\"name\"], graphData[\"accuracy\"])\n",
    "    plt.title(\"Točnosti posameznih modelov generiranih z naivnim bayesom\")\n",
    "    plt.ylabel(\"Točnost modela v %\")\n",
    "    plt.xlabel(\"Ime modela\")\n",
    "    plt.xticks(rotation=45, ha=\"right\")\n",
    "    plt.ylim(0, 100)\n",
    "    plt.axis(\"tight\")\n",
    "    y_ticks = plt.gca().get_yticks()\n",
    "    plt.gca().set_yticklabels([f\"{int(val)}%\" if val.is_integer() else f\"{val:.1f}%\" for val in y_ticks])\n",
    "    plt.tight_layout()\n",
    "    plt.savefig(\"accuracy_graph.png\", dpi=300, bbox_inches='tight')\n",
    "    plt.show()\n",
    "    \n",
    "    \n"
   ]
  },
  {
   "cell_type": "code",
   "execution_count": null,
   "id": "29",
   "metadata": {},
   "outputs": [],
   "source": [
    "def generateModelsNN():\n",
    "    data = preprocessData()\n",
    "    textData = [column for column in data.columns if pd.api.types.is_string_dtype(data[column])]\n",
    "    numericData = [column for column in data.columns if pd.api.types.is_numeric_dtype(data[column])]\n",
    "    vectorizers = {column: CountVectorizer() for column in textData}\n",
    "    textParts = hstack([vectorizers[column].fit_transform(data[column]) for column in textData])\n",
    "    numericParts = data[numericData].values\n",
    "    numericParts = FunctionTransformer(lambda x: x).fit_transform(numericParts)\n",
    "    finalData = hstack([textParts, csr_matrix(numericParts)])\n",
    "    accuracyList = open(\"models_NeuralNetwork/accuracy.txt\", \"w\")\n",
    "    for label in data.columns:\n",
    "        modelFile = open(\"models_NeuralNetwork/\" + label + \"_model.pkl\", \"wb\")\n",
    "        targetVariable = data[label]\n",
    "        trainData, testData, trainTarget, testTarget = train_test_split(finalData, targetVariable, test_size=0.2)\n",
    "        model = MultinomialNB()\n",
    "        model.fit(trainData, trainTarget)\n",
    "        pickle.dump(model, modelFile)\n",
    "        predictions = model.predict(testData)\n",
    "        accuracyList.write(\"predicting: \" + label + \" \" + str(accuracy_score(testTarget, predictions)) + \"\\n\")\n",
    "        modelFile.close()\n",
    "    accuracyList.close()"
   ]
  },
  {
   "cell_type": "code",
   "execution_count": null,
   "id": "30",
   "metadata": {},
   "outputs": [],
   "source": [
    "generateAccuracyGraph()"
   ]
  }
 ],
 "metadata": {
  "kernelspec": {
   "display_name": "PR2520",
   "language": "python",
   "name": "python3"
  },
  "language_info": {
   "codemirror_mode": {
    "name": "ipython",
    "version": 3
   },
   "file_extension": ".py",
   "mimetype": "text/x-python",
   "name": "python",
   "nbconvert_exporter": "python",
   "pygments_lexer": "ipython3",
   "version": "3.13.3"
  }
 },
 "nbformat": 4,
 "nbformat_minor": 5
}
