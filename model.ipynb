{
 "cells": [
  {
   "cell_type": "code",
   "execution_count": 258,
   "id": "6c48cf8a",
   "metadata": {},
   "outputs": [],
   "source": [
    "import pickle\n",
    "import pandas as pd\n",
    "import os\n",
    "\n",
    "from sklearn.naive_bayes import MultinomialNB\n",
    "from sklearn.model_selection import train_test_split\n",
    "from sklearn.metrics import accuracy_score\n",
    "from sklearn.feature_extraction.text import CountVectorizer\n",
    "from sklearn.preprocessing import FunctionTransformer\n",
    "from scipy.sparse import hstack\n",
    "from scipy.sparse import csr_matrix"
   ]
  },
  {
   "cell_type": "code",
   "execution_count": 38,
   "id": "b3cc34f7",
   "metadata": {},
   "outputs": [],
   "source": [
    "def cleanedData():\n",
    "\n",
    "    directory = './podatki'\n",
    "    data = []\n",
    "    max_zaporedna_stevilka = 0  \n",
    "\n",
    "    for filename in os.listdir(directory):\n",
    "        if filename.endswith(\".csv\"):\n",
    "            filepath = os.path.join(directory, filename)\n",
    "            try:\n",
    "                frame = pd.read_csv(\n",
    "                    filepath,\n",
    "                    delimiter=';',\n",
    "                    encoding='utf-8',\n",
    "                )\n",
    "                frame['ZaporednaStevilkaPN'] += max_zaporedna_stevilka\n",
    "                max_zaporedna_stevilka = frame['ZaporednaStevilkaPN'].max()  \n",
    "\n",
    "                data.append(frame)\n",
    "            except Exception as e:\n",
    "                print(f\"Napaka pri branju {filename}: {str(e)}\")\n",
    "                continue\n",
    "\n",
    "    combined_data = pd.concat(data, ignore_index=True)\n",
    "    return combined_data"
   ]
  },
  {
   "cell_type": "markdown",
   "id": "f73c14b5",
   "metadata": {},
   "source": [
    "Pridobi vse različne podatke nekega stolpca"
   ]
  },
  {
   "cell_type": "code",
   "execution_count": 65,
   "id": "7204b76c",
   "metadata": {},
   "outputs": [],
   "source": [
    "def printAllValues(data, colum):\n",
    "    print(colum + \": \", data[colum].unique())"
   ]
  },
  {
   "cell_type": "markdown",
   "id": "04eb607a",
   "metadata": {},
   "source": [
    "Odstani neuporabne parametre za model"
   ]
  },
  {
   "cell_type": "code",
   "execution_count": 70,
   "id": "666b1f21",
   "metadata": {},
   "outputs": [],
   "source": [
    "def removeUnusedColumns(data):\n",
    "    data = data.drop(columns=[\"DatumPN\", \"ZaporednaStevilkaOsebeVPN\", \"VozniskiStazVMesecih\", \"ZaporednaStevilkaPN\"])\n",
    "    return data"
   ]
  },
  {
   "cell_type": "markdown",
   "id": "6d2eeab8",
   "metadata": {},
   "source": [
    "Odstrani vse vrstice, pri katerih nekateri stolpci nimajo vrednosti"
   ]
  },
  {
   "cell_type": "code",
   "execution_count": 61,
   "id": "8d7b3853",
   "metadata": {},
   "outputs": [],
   "source": [
    "def removeNaNValues(data):\n",
    "    return data.dropna()"
   ]
  },
  {
   "cell_type": "markdown",
   "id": "fb059991",
   "metadata": {},
   "source": [
    "Pretvorba ure prometne nesreče iz zvezne v diskretno spremenljivko. Primer: 23.15 -> 23"
   ]
  },
  {
   "cell_type": "code",
   "execution_count": 84,
   "id": "0492fd77",
   "metadata": {},
   "outputs": [],
   "source": [
    "def discretsizeUraPN(data):\n",
    "    data[\"UraPN\"] = (data[\"UraPN\"] // 1).astype(int)\n",
    "    return data"
   ]
  },
  {
   "cell_type": "markdown",
   "id": "260c7059",
   "metadata": {},
   "source": [
    "Odstrani vrstice brez koordinat"
   ]
  },
  {
   "cell_type": "code",
   "execution_count": null,
   "id": "6f75aec6",
   "metadata": {},
   "outputs": [],
   "source": [
    "def removeUnknownGeoKoordinata(data):\n",
    "    data = data[(data[\"GeoKoordinataX\"] != 0) & (data[\"GeoKoordinataY\"] != 0)]\n",
    "    return data"
   ]
  },
  {
   "cell_type": "markdown",
   "id": "4f5bace3",
   "metadata": {},
   "source": [
    "Pretvorba zveznih koordinat v diskretne. Po pretvorbi lahko gledamo na podatke kot neko mrežo. Primer: 51263 -> 5"
   ]
  },
  {
   "cell_type": "code",
   "execution_count": 155,
   "id": "a95cb550",
   "metadata": {},
   "outputs": [],
   "source": [
    "def descretisizeGeoKoordinata(data):\n",
    "    data[\"GeoKoordinataX\"] = data[\"GeoKoordinataX\"] // 10000\n",
    "    data[\"GeoKoordinataY\"] = data[\"GeoKoordinataY\"] // 10000\n",
    "    return data"
   ]
  },
  {
   "cell_type": "markdown",
   "id": "0d7a41d3",
   "metadata": {},
   "source": [
    "Odstrani vse vrstice, pri katerih starost ni znana"
   ]
  },
  {
   "cell_type": "code",
   "execution_count": 167,
   "id": "cdc0bc49",
   "metadata": {},
   "outputs": [],
   "source": [
    "def removeUnknownStarost(data):\n",
    "    data = data[data[\"Starost\"] != -1]\n",
    "    return data"
   ]
  },
  {
   "cell_type": "markdown",
   "id": "497fbc78",
   "metadata": {},
   "source": [
    "Pretvorba starosti iz \"zvezne\" spremenljivko v diskretno. Primer: 23 -> 2 (pomen: udeleženec star 20-30 let)"
   ]
  },
  {
   "cell_type": "code",
   "execution_count": 169,
   "id": "890a1aa6",
   "metadata": {},
   "outputs": [],
   "source": [
    "def discretsizeStarost(data):\n",
    "    data[\"Starost\"] = (data[\"Starost\"] // 10).astype(int)\n",
    "    return data"
   ]
  },
  {
   "cell_type": "markdown",
   "id": "8f0b37e8",
   "metadata": {},
   "source": [
    "Pretvorba Vozniškega staza v letih iz \"zvezne\" spremenljivko v diskretno. Primer: 23 -> 2 (pomen: udeležencev vozniški staz 20-30 let)"
   ]
  },
  {
   "cell_type": "code",
   "execution_count": 178,
   "id": "b9992c61",
   "metadata": {},
   "outputs": [],
   "source": [
    "def discretsizeVoznikStazVLetih(data):\n",
    "    data[\"VozniskiStazVLetih\"] = (data[\"VozniskiStazVLetih\"] // 10).astype(int)\n",
    "    return data"
   ]
  },
  {
   "cell_type": "markdown",
   "id": "c1cdaa86",
   "metadata": {},
   "source": [
    "Pretvorba vrednost alkotesta iz zvezne v diskrteno spremenljivko. Primer 0.12 -> 1 (pomen: vrednost alkotesta 0.1-0.2). Ob napovedi potrebno deliti napoved z 10"
   ]
  },
  {
   "cell_type": "code",
   "execution_count": 290,
   "id": "fca81cc0",
   "metadata": {},
   "outputs": [],
   "source": [
    "def discretsizeVrednostAlkotesta(data):\n",
    "    data[\"VrednostAlkotesta\"] = data[\"VrednostAlkotesta\"].str.replace(\",\", \".\").astype(float)\n",
    "    data[\"VrednostAlkotesta\"] = data[\"VrednostAlkotesta\"].round(1) * 10\n",
    "    data[\"VrednostAlkotesta\"] = data[\"VrednostAlkotesta\"].astype(int)\n",
    "    return data"
   ]
  },
  {
   "cell_type": "markdown",
   "id": "0442e645",
   "metadata": {},
   "source": [
    "Pretvorba vrednost strokovnega pregleda iz zvezne v diskrteno spremenljivko. Primer 1.12 -> 11 (pomen: vrednost pregleda 1.1-1.2). Ob napovedi potrebno deliti napoved z 10"
   ]
  },
  {
   "cell_type": "code",
   "execution_count": 289,
   "id": "81117371",
   "metadata": {},
   "outputs": [],
   "source": [
    "def discretsizeVrednostStrokovnegaPregleda(data):\n",
    "    data[\"VrednostStrokovnegaPregleda\"] = data[\"VrednostStrokovnegaPregleda\"].str.replace(\",\", \".\").astype(float)\n",
    "    data[\"VrednostStrokovnegaPregleda\"] = data[\"VrednostStrokovnegaPregleda\"].round(1) * 10\n",
    "    data[\"VrednostStrokovnegaPregleda\"] = data[\"VrednostStrokovnegaPregleda\"].astype(float)\n",
    "    return data"
   ]
  },
  {
   "cell_type": "markdown",
   "id": "2d5d834c",
   "metadata": {},
   "source": [
    "Preprocesiranje podatkov"
   ]
  },
  {
   "cell_type": "code",
   "execution_count": 280,
   "id": "675371b1",
   "metadata": {},
   "outputs": [],
   "source": [
    "def preprocessData():\n",
    "    cleanData = cleanedData()\n",
    "    selectedColumns = removeUnusedColumns(cleanData)\n",
    "    selectedColumns = removeNaNValues(selectedColumns)\n",
    "    selectedColumns = discretsizeUraPN(selectedColumns)\n",
    "    selectedColumns = removeUnknownGeoKoordinata(selectedColumns)\n",
    "    selectedColumns = descretisizeGeoKoordinata(selectedColumns)\n",
    "    selectedColumns = removeUnknownStarost(selectedColumns)\n",
    "    selectedColumns = discretsizeStarost(selectedColumns)\n",
    "    selectedColumns = discretsizeVoznikStazVLetih(selectedColumns)\n",
    "    selectedColumns = discretsizeVrednostAlkotesta(selectedColumns)\n",
    "    selectedColumns = discretsizeVrednostStrokovnegaPregleda(selectedColumns)\n",
    "    return selectedColumns\n"
   ]
  },
  {
   "cell_type": "code",
   "execution_count": null,
   "id": "6dfbb161",
   "metadata": {},
   "outputs": [],
   "source": [
    "def generateModels():\n",
    "    data = preprocessData()\n",
    "    textData = [column for column in data.columns if pd.api.types.is_string_dtype(data[column])]\n",
    "    numericData = [column for column in data.columns if pd.api.types.is_numeric_dtype(data[column])]\n",
    "    vectorizers = {column: CountVectorizer() for column in textData}\n",
    "    textParts = hstack([vectorizers[column].fit_transform(data[column]) for column in textData])\n",
    "    numericParts = data[numericData].values\n",
    "    numericParts = FunctionTransformer(lambda x: x).fit_transform(numericParts)\n",
    "    finalData = hstack([textParts, csr_matrix(numericParts)])\n",
    "    accuracyList = open(\"models/accuracy.txt\", \"w\")\n",
    "    for label in data.columns:\n",
    "        modelFile = open(\"models/\" + label + \"_model.pkl\", \"wb\")\n",
    "        targetVariable = data[label]\n",
    "        trainData, testData, trainTarget, testTarget = train_test_split(finalData, targetVariable, test_size=0.2)\n",
    "        model = MultinomialNB()\n",
    "        model.fit(trainData, trainTarget)\n",
    "        pickle.dump(model, modelFile)\n",
    "        predictions = model.predict(testData)\n",
    "        accuracyList.write(\"predicting: \" + label + \" \" + str(accuracy_score(testTarget, predictions)) + \"\\n\")\n",
    "        modelFile.close()\n",
    "    accuracyList.close()"
   ]
  },
  {
   "cell_type": "code",
   "execution_count": 296,
   "id": "738234bf",
   "metadata": {},
   "outputs": [],
   "source": [
    "generateModels()"
   ]
  }
 ],
 "metadata": {
  "kernelspec": {
   "display_name": "dataMining",
   "language": "python",
   "name": "python3"
  },
  "language_info": {
   "codemirror_mode": {
    "name": "ipython",
    "version": 3
   },
   "file_extension": ".py",
   "mimetype": "text/x-python",
   "name": "python",
   "nbconvert_exporter": "python",
   "pygments_lexer": "ipython3",
   "version": "3.13.2"
  }
 },
 "nbformat": 4,
 "nbformat_minor": 5
}
