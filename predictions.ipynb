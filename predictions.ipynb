{
 "cells": [
  {
   "cell_type": "code",
   "execution_count": 1,
   "id": "6960f645",
   "metadata": {},
   "outputs": [],
   "source": [
    "import pandas as pd\n",
    "import json\n",
    "import import_ipynb\n",
    "import model\n",
    "import pickle"
   ]
  },
  {
   "cell_type": "markdown",
   "id": "1a797f02",
   "metadata": {},
   "source": [
    "Definicja vseh stolpcev in modelov, ki jih ne moremo uporabiti"
   ]
  },
  {
   "cell_type": "code",
   "execution_count": 2,
   "id": "43381386",
   "metadata": {},
   "outputs": [],
   "source": [
    "allowedColumns = ['KlasifikacijaNesrece', 'UpravnaEnotaStoritve', 'UraPN', 'VNaselju',\n",
    "       'Lokacija', 'VrstaCesteNaselja', 'SifraCesteNaselja',\n",
    "       'TekstCesteNaselja', 'SifraOdsekaUlice', 'TekstOdsekaUlice',\n",
    "       'StacionazaDogodka', 'OpisKraja', 'VzrokNesrece', 'TipNesrece',\n",
    "       'VremenskeOkoliscine', 'StanjePrometa', 'StanjeVozisca', 'VrstaVozisca',\n",
    "       'GeoKoordinataX', 'GeoKoordinataY', 'Povzrocitelj', 'Starost', 'Spol',\n",
    "       'UEStalnegaPrebivalisca', 'Drzavljanstvo', 'PoskodbaUdelezenca',\n",
    "       'VrstaUdelezenca', 'UporabaVarnostnegaPasu', 'VozniskiStazVLetih',\n",
    "       'VrednostAlkotesta', 'VrednostStrokovnegaPregleda']\n",
    "\n",
    "computeHeavyModels = ['SifraCesteNaselja', 'TekstCesteNaselja', 'SifraOdsekaUlice', 'TekstOdsekaUlice', 'StacionazaDogodka']"
   ]
  },
  {
   "cell_type": "markdown",
   "id": "100d1baa",
   "metadata": {},
   "source": [
    "Shrani večinski klasifikator v json datoteko, ki se uporablja za nadomeščanje vrednosti, ki manjkajo pri napovedovanju"
   ]
  },
  {
   "cell_type": "code",
   "execution_count": 3,
   "id": "8f4ca9d5",
   "metadata": {},
   "outputs": [],
   "source": [
    "def saveMostFrequentValues():\n",
    "    cleanedData = model.preprocessData()\n",
    "    mostFrequent = dict()\n",
    "\n",
    "    for column in allowedColumns:\n",
    "        maxCount = cleanedData[column].value_counts().idxmax()\n",
    "        mostFrequent[column] = str(maxCount)\n",
    "    with open(\"mostFrequent.json\", \"w\") as f1:\n",
    "        json.dump(mostFrequent, f1, indent=4)\n"
   ]
  },
  {
   "cell_type": "markdown",
   "id": "50af21ad",
   "metadata": {},
   "source": [
    "Naloži večinski klasifikator"
   ]
  },
  {
   "cell_type": "code",
   "execution_count": 4,
   "id": "17b92ce7",
   "metadata": {},
   "outputs": [],
   "source": [
    "def loadMostFrequentValues():\n",
    "    with open(\"mostFrequent.json\", 'r') as f:\n",
    "        mostFrequent = json.load(f)\n",
    "    \n",
    "    return mostFrequent"
   ]
  },
  {
   "cell_type": "markdown",
   "id": "c7c79b77",
   "metadata": {},
   "source": [
    "Pretvori uporabnikov vnos v pravilno obliko za napovedovanje in zamenja neznane vrednosti z večinskimi"
   ]
  },
  {
   "cell_type": "code",
   "execution_count": 5,
   "id": "14f4262a",
   "metadata": {},
   "outputs": [],
   "source": [
    "def generatePredictionDataFrame(predictionData, columns):\n",
    "    mostFrequent = loadMostFrequentValues()\n",
    "    jsonPath = \"data_To_Prediction/\"\n",
    "    generatedPrediction = dict() \n",
    "    for column in columns:\n",
    "        if (predictionData[column] == \"-1\"):\n",
    "            val = int(mostFrequent[column])\n",
    "            generatedPrediction[column] = val\n",
    "            continue\n",
    "        try:\n",
    "            val = float(predictionData[column])\n",
    "\n",
    "            match column:\n",
    "                case \"UraPN\":\n",
    "                    val //= 1\n",
    "                case \"GeoKoordinataX\":\n",
    "                    val //= 10000\n",
    "                case \"GeoKoordinataY\":\n",
    "                    val //= 10000\n",
    "                case \"Starost\":\n",
    "                    val //= 10\n",
    "                case \"VozniskiStazVLetih\":\n",
    "                    val //= 10\n",
    "                case \"VrednostAlkotesta\":\n",
    "                    val *= 10\n",
    "                case \"VrednostStrokovnegaPregleda\":\n",
    "                    val *= 10\n",
    "            \n",
    "            generatedPrediction[column] = int(val)\n",
    "        except:\n",
    "            with open(jsonPath + column + \".json\", 'r') as f:\n",
    "                mapping = json.load(f)\n",
    "            val = mapping[predictionData[column]]\n",
    "            generatedPrediction[column] = val\n",
    "\n",
    "    generatedDF = pd.DataFrame([generatedPrediction])\n",
    "    return generatedDF"
   ]
  },
  {
   "cell_type": "markdown",
   "id": "e026afdd",
   "metadata": {},
   "source": [
    "Pretovori napoved v človeku prijaznejšo obliko"
   ]
  },
  {
   "cell_type": "code",
   "execution_count": 6,
   "id": "a03220f1",
   "metadata": {},
   "outputs": [],
   "source": [
    "def convertPrediction(prediction, column):\n",
    "    jsonPath = \"prediction_To_Data/\"\n",
    "    match column:\n",
    "        case \"UraPN\":\n",
    "            fromHour = str(prediction) + \".00\"\n",
    "            toHour = \"0.00\" if prediction == 23 else str(prediction + 1) + \".00\"\n",
    "            prediction = fromHour + \" - \" + toHour\n",
    "            return prediction\n",
    "        case \"GeoKoordinataX\":\n",
    "            prediction = prediction * 10000\n",
    "            prediction = str(prediction) + \" - \" + str(prediction + 10000)\n",
    "            return prediction\n",
    "        case \"GeoKoordinataY\":\n",
    "            prediction = prediction * 10000\n",
    "            prediction = str(prediction) + \" - \" + str(prediction + 10000)\n",
    "            return prediction\n",
    "        case \"Starost\":\n",
    "            prediction = prediction * 10\n",
    "            prediction = str(prediction) + \" - \" + str(prediction + 10)\n",
    "            return prediction\n",
    "        case \"VozniskiStazVLetih\":\n",
    "            prediction = prediction * 10\n",
    "            prediction = str(prediction) + \" - \" + str(prediction + 10)\n",
    "            return prediction\n",
    "        case \"VrednostAlkotesta\":\n",
    "            prediction /= 10 \n",
    "            prediction = str(prediction) + \" - \" + str(prediction + 0.1)\n",
    "            return prediction\n",
    "        case \"VrednostStrokovnegaPregleda\":\n",
    "            prediction /= 10 \n",
    "            prediction = str(prediction) + \" - \" + str(prediction + 0.1)\n",
    "            return prediction\n",
    "        case _:\n",
    "            with open(jsonPath + column + \".json\", 'r') as f:\n",
    "                mapping = json.load(f)\n",
    "            return mapping[str(prediction)]\n",
    "            \n"
   ]
  },
  {
   "cell_type": "markdown",
   "id": "28059941",
   "metadata": {},
   "source": [
    "Pridobi model in podatke za napoved ter vrne napovedano vrednost."
   ]
  },
  {
   "cell_type": "code",
   "execution_count": null,
   "id": "5432b4cd",
   "metadata": {},
   "outputs": [],
   "source": [
    "def predictValue(modelName, predictionData, modelsPath):\n",
    "    \n",
    "    assert isinstance(predictionData, dict), \"predictionData must be a dictionary\"\n",
    "    assert modelName in allowedColumns, \"Invalid model name. Model name must be a valid column name. Column names can be found in predictions.ipynb\"\n",
    "    assert modelName not in computeHeavyModels, \"Don't have the model due to it being to compute heavy avoid models specified in predictions.ipynb in computeHeavyModels variable\"\n",
    "    tmpAllowedColumns = list(allowedColumns)\n",
    "    tmpAllowedColumns.remove(modelName)\n",
    "    for column in tmpAllowedColumns:\n",
    "        assert column in predictionData , f\"{column} is missing as a key in args. If a value is not provided replace it with -1\"\n",
    "\n",
    "    predictionDF = generatePredictionDataFrame(predictionData, tmpAllowedColumns)\n",
    "    if modelName in computeHeavyModels:\n",
    "        return\n",
    "    \n",
    "    with open(modelsPath + modelName + \"_model\" + \".pkl\", \"rb\") as f:\n",
    "        model = pickle.load(f)\n",
    "\n",
    "    prediction = model.predict(predictionDF)[0]\n",
    "    prediction = convertPrediction(prediction, modelName)\n",
    "\n",
    "    return prediction\n",
    "\n",
    "      "
   ]
  },
  {
   "cell_type": "markdown",
   "id": "651cc14a",
   "metadata": {},
   "source": [
    "Funkcija za testiranje funkcionalnosti vseh modelov in primer uporabe funkcije predictValue"
   ]
  },
  {
   "cell_type": "code",
   "execution_count": null,
   "id": "a75eca7d",
   "metadata": {},
   "outputs": [],
   "source": [
    "def examplePredict():\n",
    "    cleanedData = model.preprocessData()\n",
    "    modelName = \"TipNesrece\"\n",
    "    modelsPath = [\"models_Random_Forest/\", \"models_naiveBayas/\"]\n",
    "    for models in allowedColumns:\n",
    "        modelName = models\n",
    "        predictionData = cleanedData.sample(n=1)\n",
    "\n",
    "        predictionCorrect = dict()\n",
    "\n",
    "        for column in allowedColumns:\n",
    "            predictionCorrect[column] = int(predictionData[column].iloc[0])\n",
    "\n",
    "\n",
    "        del predictionCorrect[modelName]\n",
    "\n",
    "        if (models not in computeHeavyModels):\n",
    "            prediction = predictValue(modelName, predictionCorrect, modelsPath[1])\n",
    "            print(models + \": \" + prediction)"
   ]
  },
  {
   "cell_type": "code",
   "execution_count": null,
   "id": "b31580c8",
   "metadata": {},
   "outputs": [
    {
     "name": "stdout",
     "output_type": "stream",
     "text": [
      "Getting cleaned data\n",
      "Removing unused columns\n",
      "Removing Nan values\n",
      "Discreticising UraPN\n",
      "Removing unknown GEOKooridnate\n",
      "Discreticising GEOKoordinate\n",
      "Removing unknown starost\n",
      "Discreticising starost\n",
      "Discreticising Vozniški staz v letih\n",
      "Discreticising vrednost alkotesta\n",
      "Discreticising vrednost strokovnega pregleda\n",
      "Saving and replacing string values with ints in: KlasifikacijaNesrece\n",
      "Saving and replacing string values with ints in: UpravnaEnotaStoritve\n",
      "Saving and replacing string values with ints in: VNaselju\n",
      "Saving and replacing string values with ints in: Lokacija\n",
      "Saving and replacing string values with ints in: VrstaCesteNaselja\n",
      "Saving and replacing string values with ints in: SifraCesteNaselja\n",
      "Saving and replacing string values with ints in: TekstCesteNaselja\n",
      "Saving and replacing string values with ints in: TekstOdsekaUlice\n",
      "Saving and replacing string values with ints in: OpisKraja\n",
      "Saving and replacing string values with ints in: VzrokNesrece\n",
      "Saving and replacing string values with ints in: TipNesrece\n",
      "Saving and replacing string values with ints in: VremenskeOkoliscine\n",
      "Saving and replacing string values with ints in: StanjePrometa\n",
      "Saving and replacing string values with ints in: StanjeVozisca\n",
      "Saving and replacing string values with ints in: VrstaVozisca\n",
      "Saving and replacing string values with ints in: Povzrocitelj\n",
      "Saving and replacing string values with ints in: Spol\n",
      "Saving and replacing string values with ints in: UEStalnegaPrebivalisca\n",
      "Saving and replacing string values with ints in: Drzavljanstvo\n",
      "Saving and replacing string values with ints in: PoskodbaUdelezenca\n",
      "Saving and replacing string values with ints in: VrstaUdelezenca\n",
      "Saving and replacing string values with ints in: UporabaVarnostnegaPasu\n",
      "KlasifikacijaNesrece: Z MATERIALNO ŠKODO\n",
      "UpravnaEnotaStoritve: PIRAN\n",
      "UraPN: 7.00 - 8.00\n",
      "VNaselju: NE\n",
      "Lokacija: NASELJE\n",
      "VrstaCesteNaselja: NASELJE BREZ ULIČNEGA SISTEMA\n",
      "OpisKraja: CESTA\n",
      "VzrokNesrece: NEPRILAGOJENA HITROST\n",
      "TipNesrece: BOČNO TRČENJE\n",
      "VremenskeOkoliscine: JASNO\n",
      "StanjePrometa: TEKOČ (NORMALEN)\n",
      "StanjeVozisca: MOKRO\n",
      "VrstaVozisca: ZGLAJEN ASFALT / BETON\n",
      "GeoKoordinataX: 40000 - 50000\n",
      "GeoKoordinataY: 390000 - 400000\n",
      "Povzrocitelj: UDELEŽENEC\n",
      "Starost: 20 - 30\n",
      "Spol: MOŠKI\n",
      "UEStalnegaPrebivalisca: PIRAN\n"
     ]
    },
    {
     "ename": "KeyboardInterrupt",
     "evalue": "",
     "output_type": "error",
     "traceback": [
      "\u001b[31m---------------------------------------------------------------------------\u001b[39m",
      "\u001b[31mKeyboardInterrupt\u001b[39m                         Traceback (most recent call last)",
      "\u001b[36mCell\u001b[39m\u001b[36m \u001b[39m\u001b[32mIn[12]\u001b[39m\u001b[32m, line 1\u001b[39m\n\u001b[32m----> \u001b[39m\u001b[32m1\u001b[39m \u001b[43mexamplePredict\u001b[49m\u001b[43m(\u001b[49m\u001b[43m)\u001b[49m\n\u001b[32m      2\u001b[39m \u001b[38;5;66;03m#saveMostFrequentValues()\u001b[39;00m\n",
      "\u001b[36mCell\u001b[39m\u001b[36m \u001b[39m\u001b[32mIn[10]\u001b[39m\u001b[32m, line 18\u001b[39m, in \u001b[36mexamplePredict\u001b[39m\u001b[34m()\u001b[39m\n\u001b[32m     15\u001b[39m \u001b[38;5;28;01mdel\u001b[39;00m predictionCorrect[modelName]\n\u001b[32m     17\u001b[39m \u001b[38;5;28;01mif\u001b[39;00m (models \u001b[38;5;129;01mnot\u001b[39;00m \u001b[38;5;129;01min\u001b[39;00m computeHeavyModels):\n\u001b[32m---> \u001b[39m\u001b[32m18\u001b[39m     prediction = \u001b[43mpredictValue\u001b[49m\u001b[43m(\u001b[49m\u001b[43mmodelName\u001b[49m\u001b[43m,\u001b[49m\u001b[43m \u001b[49m\u001b[43mpredictionCorrect\u001b[49m\u001b[43m,\u001b[49m\u001b[43m \u001b[49m\u001b[43mmodelsPath\u001b[49m\u001b[43m[\u001b[49m\u001b[32;43m0\u001b[39;49m\u001b[43m]\u001b[49m\u001b[43m)\u001b[49m\n\u001b[32m     19\u001b[39m     \u001b[38;5;28mprint\u001b[39m(models + \u001b[33m\"\u001b[39m\u001b[33m: \u001b[39m\u001b[33m\"\u001b[39m + prediction)\n",
      "\u001b[36mCell\u001b[39m\u001b[36m \u001b[39m\u001b[32mIn[7]\u001b[39m\u001b[32m, line 16\u001b[39m, in \u001b[36mpredictValue\u001b[39m\u001b[34m(modelName, predictionData, modelsPath)\u001b[39m\n\u001b[32m     13\u001b[39m     \u001b[38;5;28;01mreturn\u001b[39;00m\n\u001b[32m     15\u001b[39m \u001b[38;5;28;01mwith\u001b[39;00m \u001b[38;5;28mopen\u001b[39m(modelsPath + modelName + \u001b[33m\"\u001b[39m\u001b[33m_model\u001b[39m\u001b[33m\"\u001b[39m + \u001b[33m\"\u001b[39m\u001b[33m.pkl\u001b[39m\u001b[33m\"\u001b[39m, \u001b[33m\"\u001b[39m\u001b[33mrb\u001b[39m\u001b[33m\"\u001b[39m) \u001b[38;5;28;01mas\u001b[39;00m f:\n\u001b[32m---> \u001b[39m\u001b[32m16\u001b[39m     model = \u001b[43mpickle\u001b[49m\u001b[43m.\u001b[49m\u001b[43mload\u001b[49m\u001b[43m(\u001b[49m\u001b[43mf\u001b[49m\u001b[43m)\u001b[49m\n\u001b[32m     18\u001b[39m prediction = model.predict(predictionDF)[\u001b[32m0\u001b[39m]\n\u001b[32m     19\u001b[39m prediction = convertPrediction(prediction, modelName)\n",
      "\u001b[36mFile \u001b[39m\u001b[32m~/.conda/envs/dataMining/lib/python3.13/site-packages/sklearn/base.py:376\u001b[39m, in \u001b[36mBaseEstimator.__setstate__\u001b[39m\u001b[34m(self, state)\u001b[39m\n\u001b[32m    373\u001b[39m     \u001b[38;5;28;01melse\u001b[39;00m:\n\u001b[32m    374\u001b[39m         \u001b[38;5;28;01mreturn\u001b[39;00m state\n\u001b[32m--> \u001b[39m\u001b[32m376\u001b[39m \u001b[38;5;28;01mdef\u001b[39;00m\u001b[38;5;250m \u001b[39m\u001b[34m__setstate__\u001b[39m(\u001b[38;5;28mself\u001b[39m, state):\n\u001b[32m    377\u001b[39m     \u001b[38;5;28;01mif\u001b[39;00m \u001b[38;5;28mtype\u001b[39m(\u001b[38;5;28mself\u001b[39m).\u001b[34m__module__\u001b[39m.startswith(\u001b[33m\"\u001b[39m\u001b[33msklearn.\u001b[39m\u001b[33m\"\u001b[39m):\n\u001b[32m    378\u001b[39m         pickle_version = state.pop(\u001b[33m\"\u001b[39m\u001b[33m_sklearn_version\u001b[39m\u001b[33m\"\u001b[39m, \u001b[33m\"\u001b[39m\u001b[33mpre-0.18\u001b[39m\u001b[33m\"\u001b[39m)\n",
      "\u001b[31mKeyboardInterrupt\u001b[39m: "
     ]
    }
   ],
   "source": [
    "#examplePredict()\n",
    "#saveMostFrequentValues()\n"
   ]
  }
 ],
 "metadata": {
  "kernelspec": {
   "display_name": "Python 3",
   "language": "python",
   "name": "python3"
  },
  "language_info": {
   "codemirror_mode": {
    "name": "ipython",
    "version": 3
   },
   "file_extension": ".py",
   "mimetype": "text/x-python",
   "name": "python",
   "nbconvert_exporter": "python",
   "pygments_lexer": "ipython3",
   "version": "3.13.2"
  }
 },
 "nbformat": 4,
 "nbformat_minor": 5
}
