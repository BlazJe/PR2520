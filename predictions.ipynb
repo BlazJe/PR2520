{
 "cells": [
  {
   "cell_type": "code",
   "execution_count": 1,
   "id": "6960f645",
   "metadata": {},
   "outputs": [],
   "source": [
    "import pandas as pd\n",
    "import json\n",
    "import import_ipynb\n",
    "import model\n",
    "import pickle"
   ]
  },
  {
   "cell_type": "markdown",
   "id": "1a797f02",
   "metadata": {},
   "source": [
    "Definicja vseh stolpcev in modelov, ki jih ne moremo uporabiti"
   ]
  },
  {
   "cell_type": "code",
   "execution_count": 2,
   "id": "43381386",
   "metadata": {},
   "outputs": [],
   "source": [
    "allowedColumns = ['KlasifikacijaNesrece', 'UpravnaEnotaStoritve', 'UraPN', 'VNaselju',\n",
    "       'Lokacija', 'VrstaCesteNaselja', 'SifraCesteNaselja',\n",
    "       'TekstCesteNaselja', 'SifraOdsekaUlice', 'TekstOdsekaUlice',\n",
    "       'StacionazaDogodka', 'OpisKraja', 'VzrokNesrece', 'TipNesrece',\n",
    "       'VremenskeOkoliscine', 'StanjePrometa', 'StanjeVozisca', 'VrstaVozisca',\n",
    "       'GeoKoordinataX', 'GeoKoordinataY', 'Povzrocitelj', 'Starost', 'Spol',\n",
    "       'UEStalnegaPrebivalisca', 'Drzavljanstvo', 'PoskodbaUdelezenca',\n",
    "       'VrstaUdelezenca', 'UporabaVarnostnegaPasu', 'VozniskiStazVLetih',\n",
    "       'VrednostAlkotesta', 'VrednostStrokovnegaPregleda']\n",
    "\n",
    "computeHeavyModels = ['SifraCesteNaselja', 'TekstCesteNaselja', 'SifraOdsekaUlice', 'TekstOdsekaUlice', 'StacionazaDogodka']"
   ]
  },
  {
   "cell_type": "markdown",
   "id": "100d1baa",
   "metadata": {},
   "source": [
    "Shrani večinski klasifikator v json datoteko, ki se uporablja za nadomeščanje vrednosti, ki manjkajo pri napovedovanju"
   ]
  },
  {
   "cell_type": "code",
   "execution_count": 3,
   "id": "8f4ca9d5",
   "metadata": {},
   "outputs": [],
   "source": [
    "def saveMostFrequentValues():\n",
    "    cleanedData = model.preprocessData()\n",
    "    mostFrequent = dict()\n",
    "\n",
    "    for column in allowedColumns:\n",
    "        maxCount = cleanedData[column].value_counts().idxmax()\n",
    "        mostFrequent[column] = str(maxCount)\n",
    "    with open(\"mostFrequent.json\", \"w\") as f1:\n",
    "        json.dump(mostFrequent, f1, indent=4)\n"
   ]
  },
  {
   "cell_type": "markdown",
   "id": "50af21ad",
   "metadata": {},
   "source": [
    "Naloži večinski klasifikator"
   ]
  },
  {
   "cell_type": "code",
   "execution_count": 4,
   "id": "17b92ce7",
   "metadata": {},
   "outputs": [],
   "source": [
    "def loadMostFrequentValues():\n",
    "    with open(\"mostFrequent.json\", 'r') as f:\n",
    "        mostFrequent = json.load(f)\n",
    "    \n",
    "    return mostFrequent"
   ]
  },
  {
   "cell_type": "markdown",
   "id": "c7c79b77",
   "metadata": {},
   "source": [
    "Pretvori uporabnikov vnos v pravilno obliko za napovedovanje in zamenja neznane vrednosti z večinskimi"
   ]
  },
  {
   "cell_type": "code",
   "execution_count": 5,
   "id": "14f4262a",
   "metadata": {},
   "outputs": [],
   "source": [
    "def generatePredictionDataFrame(predictionData, columns):\n",
    "    mostFrequent = loadMostFrequentValues()\n",
    "    jsonPath = \"data_To_Prediction/\"\n",
    "    generatedPrediction = dict() \n",
    "    for column in columns:\n",
    "        if (predictionData[column] == \"-1\"):\n",
    "            val = int(mostFrequent[column])\n",
    "            generatedPrediction[column] = val\n",
    "            continue\n",
    "        try:\n",
    "            val = float(predictionData[column])\n",
    "\n",
    "            match column:\n",
    "                case \"UraPN\":\n",
    "                    val //= 1\n",
    "                case \"GeoKoordinataX\":\n",
    "                    val //= 10000\n",
    "                case \"GeoKoordinataY\":\n",
    "                    val //= 10000\n",
    "                case \"Starost\":\n",
    "                    val //= 10\n",
    "                case \"VozniskiStazVLetih\":\n",
    "                    val //= 10\n",
    "                case \"VrednostAlkotesta\":\n",
    "                    val *= 10\n",
    "                case \"VrednostStrokovnegaPregleda\":\n",
    "                    val *= 10\n",
    "            \n",
    "            generatedPrediction[column] = int(val)\n",
    "        except:\n",
    "            with open(jsonPath + column + \".json\", 'r') as f:\n",
    "                mapping = json.load(f)\n",
    "            val = mapping[predictionData[column]]\n",
    "            generatedPrediction[column] = val\n",
    "\n",
    "    generatedDF = pd.DataFrame([generatedPrediction])\n",
    "    return generatedDF"
   ]
  },
  {
   "cell_type": "markdown",
   "id": "e026afdd",
   "metadata": {},
   "source": [
    "Pretovori napoved v človeku prijaznejšo obliko"
   ]
  },
  {
   "cell_type": "code",
   "execution_count": 6,
   "id": "a03220f1",
   "metadata": {},
   "outputs": [],
   "source": [
    "def convertPrediction(prediction, column):\n",
    "    jsonPath = \"prediction_To_Data/\"\n",
    "    match column:\n",
    "        case \"UraPN\":\n",
    "            fromHour = str(prediction) + \".00\"\n",
    "            toHour = \"0.00\" if prediction == 23 else str(prediction + 1) + \".00\"\n",
    "            prediction = fromHour + \" - \" + toHour\n",
    "            return prediction\n",
    "        case \"GeoKoordinataX\":\n",
    "            prediction = prediction * 10000\n",
    "            prediction = str(prediction) + \" - \" + str(prediction + 10000)\n",
    "            return prediction\n",
    "        case \"GeoKoordinataY\":\n",
    "            prediction = prediction * 10000\n",
    "            prediction = str(prediction) + \" - \" + str(prediction + 10000)\n",
    "            return prediction\n",
    "        case \"Starost\":\n",
    "            prediction = prediction * 10\n",
    "            prediction = str(prediction) + \" - \" + str(prediction + 10)\n",
    "            return prediction\n",
    "        case \"VozniskiStazVLetih\":\n",
    "            prediction = prediction * 10\n",
    "            prediction = str(prediction) + \" - \" + str(prediction + 10)\n",
    "            return prediction\n",
    "        case \"VrednostAlkotesta\":\n",
    "            prediction /= 10 \n",
    "            prediction = str(prediction) + \" - \" + str(prediction + 0.1)\n",
    "            return prediction\n",
    "        case \"VrednostStrokovnegaPregleda\":\n",
    "            prediction /= 10 \n",
    "            prediction = str(prediction) + \" - \" + str(prediction + 0.1)\n",
    "            return prediction\n",
    "        case _:\n",
    "            with open(jsonPath + column + \".json\", 'r') as f:\n",
    "                mapping = json.load(f)\n",
    "            return mapping[str(prediction)]\n",
    "            \n"
   ]
  },
  {
   "cell_type": "markdown",
   "id": "28059941",
   "metadata": {},
   "source": [
    "Pridobi model in podatke za napoved ter vrne napovedano vrednost."
   ]
  },
  {
   "cell_type": "code",
   "execution_count": 7,
   "id": "5432b4cd",
   "metadata": {},
   "outputs": [],
   "source": [
    "def predictValue(modelName, predictionData, modelsPath):\n",
    "\n",
    "    assert isinstance(predictionData, dict), \"predictionData must be a dictionary\"\n",
    "    assert modelName in allowedColumns, \"Invalid model name. Model name must be a valid column name. Column names can be found in predictions.ipynb\"\n",
    "    assert modelName not in computeHeavyModels, \"Don't have the model due to it being to compute heavy avoid models specified in predictions.ipynb in computeHeavyModels variable\"\n",
    "    tmpAllowedColumns = list(allowedColumns)\n",
    "    tmpAllowedColumns.remove(modelName)\n",
    "    for column in tmpAllowedColumns:\n",
    "        assert column in predictionData , f\"{column} is missing as a key in args. If a value is not provided replace it with -1\"\n",
    "\n",
    "    predictionDF = generatePredictionDataFrame(predictionData, tmpAllowedColumns)\n",
    "    if modelName in computeHeavyModels:\n",
    "        return\n",
    "    \n",
    "    with open(modelsPath + modelName + \"_model\" + \".pkl\", \"rb\") as f:\n",
    "        model = pickle.load(f)\n",
    "\n",
    "    prediction = model.predict(predictionDF)[0]\n",
    "    prediction = convertPrediction(prediction, modelName)\n",
    "\n",
    "    return prediction\n",
    "\n",
    "      "
   ]
  },
  {
   "cell_type": "markdown",
   "id": "651cc14a",
   "metadata": {},
   "source": [
    "Funkcija za testiranje funkcionalnosti vseh modelov in primer uporabe funkcije predictValue"
   ]
  },
  {
   "cell_type": "code",
   "execution_count": 8,
   "id": "a75eca7d",
   "metadata": {},
   "outputs": [],
   "source": [
    "def examplePredict():\n",
    "    cleanedData = model.preprocessData()\n",
    "    modelName = \"TipNesrece\"\n",
    "    modelsPath = [\"models_Random_Forest/\", \"models_naiveBayas/\"]\n",
    "    for models in allowedColumns:\n",
    "        modelName = models\n",
    "        predictionData = cleanedData.sample(n=1)\n",
    "\n",
    "        predictionCorrect = dict()\n",
    "\n",
    "        for column in allowedColumns:\n",
    "            predictionCorrect[column] = int(predictionData[column].iloc[0])\n",
    "\n",
    "\n",
    "        del predictionCorrect[modelName]\n",
    "\n",
    "        if (models not in computeHeavyModels):\n",
    "            prediction = predictValue(modelName, predictionCorrect, modelsPath[1])\n",
    "            print(models + \": \" + prediction)"
   ]
  },
  {
   "cell_type": "code",
   "execution_count": 9,
   "id": "b31580c8",
   "metadata": {},
   "outputs": [],
   "source": [
    "#examplePredict()\n",
    "#saveMostFrequentValues()\n"
   ]
  }
 ],
 "metadata": {
  "kernelspec": {
   "display_name": "Python 3",
   "language": "python",
   "name": "python3"
  },
  "language_info": {
   "codemirror_mode": {
    "name": "ipython",
    "version": 3
   },
   "file_extension": ".py",
   "mimetype": "text/x-python",
   "name": "python",
   "nbconvert_exporter": "python",
   "pygments_lexer": "ipython3",
   "version": "3.13.0"
  }
 },
 "nbformat": 4,
 "nbformat_minor": 5
}
